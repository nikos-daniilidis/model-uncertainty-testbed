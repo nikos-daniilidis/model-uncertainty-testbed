{
 "cells": [
  {
   "cell_type": "code",
   "execution_count": 1,
   "id": "6b502a26",
   "metadata": {},
   "outputs": [
    {
     "name": "stderr",
     "output_type": "stream",
     "text": [
      "2022-07-20 20:05:33.200061: W tensorflow/stream_executor/platform/default/dso_loader.cc:64] Could not load dynamic library 'libcudart.so.11.0'; dlerror: libcudart.so.11.0: cannot open shared object file: No such file or directory\n",
      "2022-07-20 20:05:33.200088: I tensorflow/stream_executor/cuda/cudart_stub.cc:29] Ignore above cudart dlerror if you do not have a GPU set up on your machine.\n"
     ]
    }
   ],
   "source": [
    "import tensorflow as tf\n",
    "import tensorflow_probability as tfp"
   ]
  },
  {
   "cell_type": "code",
   "execution_count": 2,
   "id": "d9dc0df7",
   "metadata": {},
   "outputs": [],
   "source": [
    "tfd = tfp.distributions\n",
    "tfb = tfp.bijectors"
   ]
  },
  {
   "cell_type": "code",
   "execution_count": 3,
   "id": "1e7ee934",
   "metadata": {},
   "outputs": [],
   "source": [
    "#! pip freeze"
   ]
  },
  {
   "cell_type": "code",
   "execution_count": 4,
   "id": "c314094a",
   "metadata": {},
   "outputs": [
    {
     "name": "stderr",
     "output_type": "stream",
     "text": [
      "2022-07-20 20:06:05.098645: W tensorflow/stream_executor/platform/default/dso_loader.cc:64] Could not load dynamic library 'libcuda.so.1'; dlerror: libcuda.so.1: cannot open shared object file: No such file or directory\n",
      "2022-07-20 20:06:05.098714: W tensorflow/stream_executor/cuda/cuda_driver.cc:269] failed call to cuInit: UNKNOWN ERROR (303)\n",
      "2022-07-20 20:06:05.098777: I tensorflow/stream_executor/cuda/cuda_diagnostics.cc:156] kernel driver does not appear to be running on this host (xps): /proc/driver/nvidia/version does not exist\n",
      "2022-07-20 20:06:05.101386: I tensorflow/core/platform/cpu_feature_guard.cc:193] This TensorFlow binary is optimized with oneAPI Deep Neural Network Library (oneDNN) to use the following CPU instructions in performance-critical operations:  AVX2 FMA\n",
      "To enable them in other operations, rebuild TensorFlow with the appropriate compiler flags.\n",
      "/home/nikos/.venv/py3-tf2/lib/python3.8/site-packages/tensorflow_probability/python/bijectors/real_nvp.py:392: UserWarning: `tf.layers.dense` is deprecated and will be removed in a future version. Please use `tf.keras.layers.Dense` instead.\n",
      "  x = tf1.layers.dense(\n",
      "/home/nikos/.venv/py3-tf2/lib/python3.8/site-packages/tensorflow_probability/python/bijectors/real_nvp.py:398: UserWarning: `tf.layers.dense` is deprecated and will be removed in a future version. Please use `tf.keras.layers.Dense` instead.\n",
      "  x = tf1.layers.dense(\n"
     ]
    }
   ],
   "source": [
    "# A common choice for a normalizing flow is to use a Gaussian for the base\n",
    "# distribution. (However, any continuous distribution would work.) E.g.,\n",
    "nvp = tfd.TransformedDistribution(\n",
    "    distribution=tfd.MultivariateNormalDiag(loc=[0., 0., 0.]),\n",
    "    bijector=tfb.RealNVP(\n",
    "        num_masked=2,\n",
    "        shift_and_log_scale_fn=tfb.real_nvp_default_template(\n",
    "            hidden_layers=[512, 512])))\n",
    "\n",
    "x = nvp.sample()"
   ]
  },
  {
   "cell_type": "code",
   "execution_count": 5,
   "id": "1b7b71e4",
   "metadata": {},
   "outputs": [
    {
     "name": "stdout",
     "output_type": "stream",
     "text": [
      "tf.Tensor([ 0.03847028 -0.8197863   0.2438649 ], shape=(3,), dtype=float32)\n"
     ]
    }
   ],
   "source": [
    "print (x)"
   ]
  },
  {
   "cell_type": "code",
   "execution_count": 7,
   "id": "66d3ff73",
   "metadata": {},
   "outputs": [
    {
     "name": "stdout",
     "output_type": "stream",
     "text": [
      "tf.Tensor(-3.128629, shape=(), dtype=float32)\n"
     ]
    }
   ],
   "source": [
    "print (nvp.log_prob(x))"
   ]
  },
  {
   "cell_type": "code",
   "execution_count": 8,
   "id": "c6ed47d2",
   "metadata": {},
   "outputs": [
    {
     "name": "stdout",
     "output_type": "stream",
     "text": [
      "tf.Tensor(-2.7568154, shape=(), dtype=float32)\n"
     ]
    }
   ],
   "source": [
    "print (nvp.log_prob([0.0, 0.0, 0.0]))"
   ]
  },
  {
   "cell_type": "code",
   "execution_count": 9,
   "id": "5a7e8888",
   "metadata": {},
   "outputs": [],
   "source": [
    "import numpy as np"
   ]
  },
  {
   "cell_type": "code",
   "execution_count": 11,
   "id": "95faf25b",
   "metadata": {},
   "outputs": [
    {
     "data": {
      "text/plain": [
       "array([[0., 1.],\n",
       "       [1., 0.],\n",
       "       [0., 1.],\n",
       "       [1., 0.]], dtype=float32)"
      ]
     },
     "execution_count": 11,
     "metadata": {},
     "output_type": "execute_result"
    }
   ],
   "source": [
    "np.array(\n",
    "            [[0, 1], [1, 0]] * (4 // 2), dtype=\"float32\"\n",
    "        )"
   ]
  },
  {
   "cell_type": "code",
   "execution_count": 12,
   "id": "7fb732e6",
   "metadata": {},
   "outputs": [
    {
     "data": {
      "text/plain": [
       "[2]"
      ]
     },
     "execution_count": 12,
     "metadata": {},
     "output_type": "execute_result"
    }
   ],
   "source": [
    "l = [1,2,3,4]\n",
    "l[1:-2]"
   ]
  },
  {
   "cell_type": "code",
   "execution_count": 14,
   "id": "595f9765",
   "metadata": {},
   "outputs": [
    {
     "name": "stdout",
     "output_type": "stream",
     "text": [
      "0\n",
      "1\n"
     ]
    }
   ],
   "source": [
    "for i, e in enumerate(l[1:-1]):\n",
    "    print (i)"
   ]
  },
  {
   "cell_type": "code",
   "execution_count": null,
   "id": "b77d3fbf",
   "metadata": {},
   "outputs": [],
   "source": []
  }
 ],
 "metadata": {
  "kernelspec": {
   "display_name": "Python 3 (ipykernel)",
   "language": "python",
   "name": "python3"
  },
  "language_info": {
   "codemirror_mode": {
    "name": "ipython",
    "version": 3
   },
   "file_extension": ".py",
   "mimetype": "text/x-python",
   "name": "python",
   "nbconvert_exporter": "python",
   "pygments_lexer": "ipython3",
   "version": "3.8.10"
  }
 },
 "nbformat": 4,
 "nbformat_minor": 5
}

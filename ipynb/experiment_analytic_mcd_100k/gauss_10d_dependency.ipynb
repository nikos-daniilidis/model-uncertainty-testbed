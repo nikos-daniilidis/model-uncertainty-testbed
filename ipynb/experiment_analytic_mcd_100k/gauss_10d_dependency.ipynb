{
 "cells": [
  {
   "cell_type": "code",
   "execution_count": 1,
   "id": "845ef0c1",
   "metadata": {},
   "outputs": [
    {
     "name": "stderr",
     "output_type": "stream",
     "text": [
      "2022-05-03 23:14:02.877701: W tensorflow/stream_executor/platform/default/dso_loader.cc:64] Could not load dynamic library 'libcudart.so.11.0'; dlerror: libcudart.so.11.0: cannot open shared object file: No such file or directory\n",
      "2022-05-03 23:14:02.877749: I tensorflow/stream_executor/cuda/cudart_stub.cc:29] Ignore above cudart dlerror if you do not have a GPU set up on your machine.\n"
     ]
    }
   ],
   "source": [
    "from functools import partial\n",
    "from tensorflow import keras\n",
    "from matplotlib import pyplot as plt\n",
    "import numpy as np\n",
    "from uncertainty_testbed.generators.data_generator_explicit import AnalyticBinaryClassGenerator\n",
    "from uncertainty_testbed.utilities.functions import map_to_constant, safe_logodds\n",
    "from uncertainty_testbed.uncertainty_models.mc_dropout import MCDropoutLayer, MCDropoutKerasClassification"
   ]
  },
  {
   "cell_type": "code",
   "execution_count": 2,
   "id": "6c24b6e4",
   "metadata": {},
   "outputs": [],
   "source": [
    "#def generate_chisq_chisq_data(num_train=100000, num_val=20000, noise_level=0.):\n",
    "num_train=100096\n",
    "num_val=20000\n",
    "noise_level=0.01\n",
    "# generate some data\n",
    "s = partial(map_to_constant, c=noise_level)\n",
    "eg = AnalyticBinaryClassGenerator(seed=42, num_inputs=10, name=\"gauss\", threshold=0.5,\n",
    "                                  noise_distribution=\"gauss\", noise_scale=s)\n",
    "x, y = eg.generate_labeled(num_train + num_val)\n",
    "x = x.astype(\"float32\")\n",
    "y = y.astype(\"uint8\")\n",
    "x_train, y_train = x[:num_train, :], y[:num_train]\n",
    "x_val, y_val = x[num_train:, :], y[num_train:]\n",
    "#return x_train, y_train, x_val, y_val"
   ]
  },
  {
   "cell_type": "code",
   "execution_count": 3,
   "id": "7eaa4e6e",
   "metadata": {},
   "outputs": [
    {
     "name": "stdout",
     "output_type": "stream",
     "text": [
      "Epoch 1/84\n"
     ]
    },
    {
     "name": "stderr",
     "output_type": "stream",
     "text": [
      "2022-05-03 23:14:07.218587: W tensorflow/stream_executor/platform/default/dso_loader.cc:64] Could not load dynamic library 'libcuda.so.1'; dlerror: libcuda.so.1: cannot open shared object file: No such file or directory\n",
      "2022-05-03 23:14:07.220008: W tensorflow/stream_executor/cuda/cuda_driver.cc:269] failed call to cuInit: UNKNOWN ERROR (303)\n",
      "2022-05-03 23:14:07.220050: I tensorflow/stream_executor/cuda/cuda_diagnostics.cc:156] kernel driver does not appear to be running on this host (xps): /proc/driver/nvidia/version does not exist\n",
      "2022-05-03 23:14:07.220424: I tensorflow/core/platform/cpu_feature_guard.cc:151] This TensorFlow binary is optimized with oneAPI Deep Neural Network Library (oneDNN) to use the following CPU instructions in performance-critical operations:  AVX2 FMA\n",
      "To enable them in other operations, rebuild TensorFlow with the appropriate compiler flags.\n"
     ]
    },
    {
     "name": "stdout",
     "output_type": "stream",
     "text": [
      "391/391 [==============================] - 3s 5ms/step - loss: 0.6967 - accuracy: 0.5341 - auc: 0.5467 - val_loss: 0.6637 - val_accuracy: 0.6031 - val_auc: 0.6413\n",
      "Epoch 2/84\n",
      "391/391 [==============================] - 2s 4ms/step - loss: 0.6276 - accuracy: 0.6617 - auc: 0.7226 - val_loss: 0.5861 - val_accuracy: 0.7116 - val_auc: 0.7874\n",
      "Epoch 3/84\n",
      "391/391 [==============================] - 1s 3ms/step - loss: 0.5337 - accuracy: 0.7553 - auc: 0.8370 - val_loss: 0.4780 - val_accuracy: 0.7942 - val_auc: 0.8748\n",
      "Epoch 4/84\n",
      "391/391 [==============================] - 1s 4ms/step - loss: 0.4179 - accuracy: 0.8243 - auc: 0.9062 - val_loss: 0.3683 - val_accuracy: 0.8456 - val_auc: 0.9262\n",
      "Epoch 5/84\n",
      "391/391 [==============================] - 1s 3ms/step - loss: 0.3205 - accuracy: 0.8708 - auc: 0.9446 - val_loss: 0.2841 - val_accuracy: 0.8852 - val_auc: 0.9553\n",
      "Epoch 6/84\n",
      "391/391 [==============================] - 2s 4ms/step - loss: 0.2548 - accuracy: 0.8977 - auc: 0.9637 - val_loss: 0.2289 - val_accuracy: 0.9095 - val_auc: 0.9703\n",
      "Epoch 7/84\n",
      "391/391 [==============================] - 1s 4ms/step - loss: 0.2073 - accuracy: 0.9186 - auc: 0.9755 - val_loss: 0.1894 - val_accuracy: 0.9263 - val_auc: 0.9795\n",
      "Epoch 8/84\n",
      "391/391 [==============================] - 1s 4ms/step - loss: 0.1733 - accuracy: 0.9326 - auc: 0.9828 - val_loss: 0.1593 - val_accuracy: 0.9366 - val_auc: 0.9855\n",
      "Epoch 9/84\n",
      "391/391 [==============================] - 1s 4ms/step - loss: 0.1477 - accuracy: 0.9427 - auc: 0.9874 - val_loss: 0.1401 - val_accuracy: 0.9480 - val_auc: 0.9885\n",
      "Epoch 10/84\n",
      "391/391 [==============================] - 1s 4ms/step - loss: 0.1306 - accuracy: 0.9501 - auc: 0.9901 - val_loss: 0.1180 - val_accuracy: 0.9563 - val_auc: 0.9920\n",
      "Epoch 11/84\n",
      "391/391 [==============================] - 2s 4ms/step - loss: 0.1158 - accuracy: 0.9559 - auc: 0.9922 - val_loss: 0.1093 - val_accuracy: 0.9587 - val_auc: 0.9930\n",
      "Epoch 12/84\n",
      "391/391 [==============================] - 2s 4ms/step - loss: 0.1043 - accuracy: 0.9605 - auc: 0.9937 - val_loss: 0.0982 - val_accuracy: 0.9627 - val_auc: 0.9944\n",
      "Epoch 13/84\n",
      "391/391 [==============================] - 2s 4ms/step - loss: 0.0962 - accuracy: 0.9629 - auc: 0.9946 - val_loss: 0.0903 - val_accuracy: 0.9658 - val_auc: 0.9953\n",
      "Epoch 14/84\n",
      "391/391 [==============================] - 2s 4ms/step - loss: 0.0887 - accuracy: 0.9666 - auc: 0.9954 - val_loss: 0.0841 - val_accuracy: 0.9699 - val_auc: 0.9958\n",
      "Epoch 15/84\n",
      "391/391 [==============================] - 1s 4ms/step - loss: 0.0814 - accuracy: 0.9696 - auc: 0.9962 - val_loss: 0.0800 - val_accuracy: 0.9696 - val_auc: 0.9962\n",
      "Epoch 16/84\n",
      "391/391 [==============================] - 2s 4ms/step - loss: 0.0763 - accuracy: 0.9716 - auc: 0.9966 - val_loss: 0.0747 - val_accuracy: 0.9715 - val_auc: 0.9967\n",
      "Epoch 17/84\n",
      "391/391 [==============================] - 2s 5ms/step - loss: 0.0714 - accuracy: 0.9740 - auc: 0.9970 - val_loss: 0.0704 - val_accuracy: 0.9741 - val_auc: 0.9971\n",
      "Epoch 18/84\n",
      "391/391 [==============================] - 2s 5ms/step - loss: 0.0683 - accuracy: 0.9745 - auc: 0.9973 - val_loss: 0.0650 - val_accuracy: 0.9765 - val_auc: 0.9976\n",
      "Epoch 19/84\n",
      "391/391 [==============================] - 2s 4ms/step - loss: 0.0646 - accuracy: 0.9763 - auc: 0.9976 - val_loss: 0.0648 - val_accuracy: 0.9758 - val_auc: 0.9976\n",
      "Epoch 20/84\n",
      "391/391 [==============================] - 2s 5ms/step - loss: 0.0618 - accuracy: 0.9771 - auc: 0.9978 - val_loss: 0.0561 - val_accuracy: 0.9800 - val_auc: 0.9982\n",
      "Epoch 21/84\n",
      "391/391 [==============================] - 2s 5ms/step - loss: 0.0582 - accuracy: 0.9784 - auc: 0.9981 - val_loss: 0.0559 - val_accuracy: 0.9793 - val_auc: 0.9983\n",
      "Epoch 22/84\n",
      "391/391 [==============================] - 2s 4ms/step - loss: 0.0554 - accuracy: 0.9798 - auc: 0.9983 - val_loss: 0.0528 - val_accuracy: 0.9808 - val_auc: 0.9984\n",
      "Epoch 23/84\n",
      "391/391 [==============================] - 1s 3ms/step - loss: 0.0534 - accuracy: 0.9804 - auc: 0.9984 - val_loss: 0.0515 - val_accuracy: 0.9797 - val_auc: 0.9986\n",
      "Epoch 24/84\n",
      "391/391 [==============================] - 1s 3ms/step - loss: 0.0509 - accuracy: 0.9817 - auc: 0.9986 - val_loss: 0.0519 - val_accuracy: 0.9815 - val_auc: 0.9984\n",
      "Epoch 25/84\n",
      "391/391 [==============================] - 1s 3ms/step - loss: 0.0475 - accuracy: 0.9829 - auc: 0.9987 - val_loss: 0.0467 - val_accuracy: 0.9832 - val_auc: 0.9988\n",
      "Epoch 26/84\n",
      "391/391 [==============================] - 2s 4ms/step - loss: 0.0466 - accuracy: 0.9829 - auc: 0.9988 - val_loss: 0.0462 - val_accuracy: 0.9822 - val_auc: 0.9988\n",
      "Epoch 27/84\n",
      "391/391 [==============================] - 2s 4ms/step - loss: 0.0456 - accuracy: 0.9834 - auc: 0.9988 - val_loss: 0.0441 - val_accuracy: 0.9840 - val_auc: 0.9990\n",
      "Epoch 28/84\n",
      "391/391 [==============================] - 2s 4ms/step - loss: 0.0430 - accuracy: 0.9841 - auc: 0.9990 - val_loss: 0.0438 - val_accuracy: 0.9851 - val_auc: 0.9989\n",
      "Epoch 29/84\n",
      "391/391 [==============================] - 1s 4ms/step - loss: 0.0415 - accuracy: 0.9851 - auc: 0.9990 - val_loss: 0.0429 - val_accuracy: 0.9833 - val_auc: 0.9989\n",
      "Epoch 30/84\n",
      "391/391 [==============================] - 1s 3ms/step - loss: 0.0399 - accuracy: 0.9850 - auc: 0.9991 - val_loss: 0.0394 - val_accuracy: 0.9860 - val_auc: 0.9992\n",
      "Epoch 31/84\n",
      "391/391 [==============================] - 1s 3ms/step - loss: 0.0396 - accuracy: 0.9859 - auc: 0.9991 - val_loss: 0.0384 - val_accuracy: 0.9862 - val_auc: 0.9992\n",
      "Epoch 32/84\n",
      "391/391 [==============================] - 1s 3ms/step - loss: 0.0383 - accuracy: 0.9860 - auc: 0.9992 - val_loss: 0.0382 - val_accuracy: 0.9850 - val_auc: 0.9991\n",
      "Epoch 33/84\n",
      "391/391 [==============================] - 1s 3ms/step - loss: 0.0365 - accuracy: 0.9868 - auc: 0.9992 - val_loss: 0.0370 - val_accuracy: 0.9863 - val_auc: 0.9992\n",
      "Epoch 34/84\n",
      "391/391 [==============================] - 1s 3ms/step - loss: 0.0363 - accuracy: 0.9869 - auc: 0.9992 - val_loss: 0.0352 - val_accuracy: 0.9870 - val_auc: 0.9993\n",
      "Epoch 35/84\n",
      "391/391 [==============================] - 1s 3ms/step - loss: 0.0352 - accuracy: 0.9871 - auc: 0.9993 - val_loss: 0.0351 - val_accuracy: 0.9866 - val_auc: 0.9993\n",
      "Epoch 36/84\n",
      "391/391 [==============================] - 1s 3ms/step - loss: 0.0333 - accuracy: 0.9881 - auc: 0.9994 - val_loss: 0.0322 - val_accuracy: 0.9882 - val_auc: 0.9994\n",
      "Epoch 37/84\n",
      "391/391 [==============================] - 1s 3ms/step - loss: 0.0322 - accuracy: 0.9884 - auc: 0.9994 - val_loss: 0.0317 - val_accuracy: 0.9882 - val_auc: 0.9994\n",
      "Epoch 38/84\n",
      "391/391 [==============================] - 1s 3ms/step - loss: 0.0308 - accuracy: 0.9889 - auc: 0.9995 - val_loss: 0.0327 - val_accuracy: 0.9885 - val_auc: 0.9994\n",
      "Epoch 39/84\n",
      "391/391 [==============================] - 1s 3ms/step - loss: 0.0314 - accuracy: 0.9885 - auc: 0.9995 - val_loss: 0.0303 - val_accuracy: 0.9884 - val_auc: 0.9995\n",
      "Epoch 40/84\n",
      "391/391 [==============================] - 1s 3ms/step - loss: 0.0306 - accuracy: 0.9892 - auc: 0.9995 - val_loss: 0.0307 - val_accuracy: 0.9879 - val_auc: 0.9995\n",
      "Epoch 41/84\n",
      "391/391 [==============================] - 1s 3ms/step - loss: 0.0297 - accuracy: 0.9892 - auc: 0.9995 - val_loss: 0.0292 - val_accuracy: 0.9890 - val_auc: 0.9996\n",
      "Epoch 42/84\n",
      "391/391 [==============================] - 1s 3ms/step - loss: 0.0298 - accuracy: 0.9891 - auc: 0.9995 - val_loss: 0.0295 - val_accuracy: 0.9891 - val_auc: 0.9995\n",
      "Epoch 43/84\n",
      "391/391 [==============================] - 1s 3ms/step - loss: 0.0279 - accuracy: 0.9897 - auc: 0.9996 - val_loss: 0.0268 - val_accuracy: 0.9905 - val_auc: 0.9996\n",
      "Epoch 44/84\n",
      "391/391 [==============================] - 1s 3ms/step - loss: 0.0281 - accuracy: 0.9902 - auc: 0.9995 - val_loss: 0.0290 - val_accuracy: 0.9887 - val_auc: 0.9996\n",
      "Epoch 45/84\n",
      "391/391 [==============================] - 1s 3ms/step - loss: 0.0272 - accuracy: 0.9901 - auc: 0.9996 - val_loss: 0.0264 - val_accuracy: 0.9901 - val_auc: 0.9996\n",
      "Epoch 46/84\n",
      "391/391 [==============================] - 1s 4ms/step - loss: 0.0269 - accuracy: 0.9901 - auc: 0.9996 - val_loss: 0.0267 - val_accuracy: 0.9906 - val_auc: 0.9996\n",
      "Epoch 47/84\n",
      "391/391 [==============================] - 1s 3ms/step - loss: 0.0266 - accuracy: 0.9907 - auc: 0.9996 - val_loss: 0.0256 - val_accuracy: 0.9909 - val_auc: 0.9997\n"
     ]
    },
    {
     "name": "stdout",
     "output_type": "stream",
     "text": [
      "Epoch 48/84\n",
      "391/391 [==============================] - 1s 3ms/step - loss: 0.0258 - accuracy: 0.9903 - auc: 0.9997 - val_loss: 0.0252 - val_accuracy: 0.9908 - val_auc: 0.9997\n",
      "Epoch 49/84\n",
      "391/391 [==============================] - 1s 3ms/step - loss: 0.0253 - accuracy: 0.9911 - auc: 0.9997 - val_loss: 0.0251 - val_accuracy: 0.9906 - val_auc: 0.9997\n",
      "Epoch 50/84\n",
      "391/391 [==============================] - 1s 3ms/step - loss: 0.0237 - accuracy: 0.9917 - auc: 0.9997 - val_loss: 0.0255 - val_accuracy: 0.9905 - val_auc: 0.9996\n",
      "Epoch 51/84\n",
      "391/391 [==============================] - 1s 3ms/step - loss: 0.0237 - accuracy: 0.9920 - auc: 0.9997 - val_loss: 0.0250 - val_accuracy: 0.9908 - val_auc: 0.9997\n",
      "Epoch 52/84\n",
      "391/391 [==============================] - 1s 3ms/step - loss: 0.0240 - accuracy: 0.9911 - auc: 0.9997 - val_loss: 0.0229 - val_accuracy: 0.9915 - val_auc: 0.9998\n",
      "Epoch 53/84\n",
      "391/391 [==============================] - 1s 4ms/step - loss: 0.0233 - accuracy: 0.9916 - auc: 0.9997 - val_loss: 0.0232 - val_accuracy: 0.9923 - val_auc: 0.9997\n",
      "Epoch 54/84\n",
      "391/391 [==============================] - 1s 3ms/step - loss: 0.0222 - accuracy: 0.9920 - auc: 0.9997 - val_loss: 0.0219 - val_accuracy: 0.9920 - val_auc: 0.9997\n",
      "Epoch 55/84\n",
      "391/391 [==============================] - 1s 3ms/step - loss: 0.0223 - accuracy: 0.9921 - auc: 0.9997 - val_loss: 0.0211 - val_accuracy: 0.9922 - val_auc: 0.9998\n",
      "Epoch 56/84\n",
      "391/391 [==============================] - 1s 3ms/step - loss: 0.0217 - accuracy: 0.9921 - auc: 0.9998 - val_loss: 0.0213 - val_accuracy: 0.9926 - val_auc: 0.9998\n",
      "Epoch 57/84\n",
      "391/391 [==============================] - 1s 4ms/step - loss: 0.0222 - accuracy: 0.9920 - auc: 0.9997 - val_loss: 0.0234 - val_accuracy: 0.9909 - val_auc: 0.9997\n",
      "Epoch 58/84\n",
      "391/391 [==============================] - 2s 4ms/step - loss: 0.0220 - accuracy: 0.9922 - auc: 0.9997 - val_loss: 0.0217 - val_accuracy: 0.9916 - val_auc: 0.9998\n",
      "Epoch 59/84\n",
      "391/391 [==============================] - 1s 3ms/step - loss: 0.0210 - accuracy: 0.9924 - auc: 0.9998 - val_loss: 0.0200 - val_accuracy: 0.9932 - val_auc: 0.9998\n",
      "Epoch 60/84\n",
      "391/391 [==============================] - 1s 3ms/step - loss: 0.0214 - accuracy: 0.9921 - auc: 0.9998 - val_loss: 0.0189 - val_accuracy: 0.9933 - val_auc: 0.9998\n",
      "Epoch 61/84\n",
      "391/391 [==============================] - 1s 4ms/step - loss: 0.0205 - accuracy: 0.9928 - auc: 0.9998 - val_loss: 0.0199 - val_accuracy: 0.9931 - val_auc: 0.9998\n",
      "Epoch 62/84\n",
      "391/391 [==============================] - 1s 4ms/step - loss: 0.0205 - accuracy: 0.9922 - auc: 0.9998 - val_loss: 0.0194 - val_accuracy: 0.9933 - val_auc: 0.9998\n",
      "Epoch 63/84\n",
      "391/391 [==============================] - 1s 3ms/step - loss: 0.0200 - accuracy: 0.9927 - auc: 0.9998 - val_loss: 0.0187 - val_accuracy: 0.9932 - val_auc: 0.9998\n",
      "Epoch 64/84\n",
      "391/391 [==============================] - 1s 4ms/step - loss: 0.0197 - accuracy: 0.9927 - auc: 0.9998 - val_loss: 0.0181 - val_accuracy: 0.9941 - val_auc: 0.9998\n",
      "Epoch 65/84\n",
      "391/391 [==============================] - 1s 4ms/step - loss: 0.0190 - accuracy: 0.9934 - auc: 0.9998 - val_loss: 0.0177 - val_accuracy: 0.9937 - val_auc: 0.9998\n",
      "Epoch 66/84\n",
      "391/391 [==============================] - 2s 4ms/step - loss: 0.0185 - accuracy: 0.9933 - auc: 0.9998 - val_loss: 0.0174 - val_accuracy: 0.9942 - val_auc: 0.9999\n",
      "Epoch 67/84\n",
      "391/391 [==============================] - 1s 4ms/step - loss: 0.0187 - accuracy: 0.9934 - auc: 0.9998 - val_loss: 0.0165 - val_accuracy: 0.9944 - val_auc: 0.9999\n",
      "Epoch 68/84\n",
      "391/391 [==============================] - 1s 4ms/step - loss: 0.0179 - accuracy: 0.9938 - auc: 0.9998 - val_loss: 0.0180 - val_accuracy: 0.9937 - val_auc: 0.9998\n",
      "Epoch 69/84\n",
      "391/391 [==============================] - 1s 3ms/step - loss: 0.0176 - accuracy: 0.9937 - auc: 0.9998 - val_loss: 0.0161 - val_accuracy: 0.9947 - val_auc: 0.9999\n",
      "Epoch 70/84\n",
      "391/391 [==============================] - 2s 4ms/step - loss: 0.0180 - accuracy: 0.9935 - auc: 0.9998 - val_loss: 0.0162 - val_accuracy: 0.9942 - val_auc: 0.9999\n",
      "Epoch 71/84\n",
      "391/391 [==============================] - 1s 3ms/step - loss: 0.0182 - accuracy: 0.9931 - auc: 0.9998 - val_loss: 0.0172 - val_accuracy: 0.9939 - val_auc: 0.9999\n",
      "Epoch 72/84\n",
      "391/391 [==============================] - 1s 3ms/step - loss: 0.0173 - accuracy: 0.9940 - auc: 0.9998 - val_loss: 0.0170 - val_accuracy: 0.9941 - val_auc: 0.9999\n",
      "Epoch 73/84\n",
      "391/391 [==============================] - 1s 3ms/step - loss: 0.0173 - accuracy: 0.9936 - auc: 0.9999 - val_loss: 0.0173 - val_accuracy: 0.9935 - val_auc: 0.9998\n",
      "Epoch 74/84\n",
      "391/391 [==============================] - 1s 4ms/step - loss: 0.0171 - accuracy: 0.9941 - auc: 0.9999 - val_loss: 0.0174 - val_accuracy: 0.9944 - val_auc: 0.9998\n",
      "Epoch 75/84\n",
      "391/391 [==============================] - 1s 3ms/step - loss: 0.0167 - accuracy: 0.9939 - auc: 0.9999 - val_loss: 0.0155 - val_accuracy: 0.9945 - val_auc: 0.9999\n",
      "Epoch 76/84\n",
      "391/391 [==============================] - 1s 4ms/step - loss: 0.0162 - accuracy: 0.9942 - auc: 0.9999 - val_loss: 0.0164 - val_accuracy: 0.9936 - val_auc: 0.9999\n",
      "Epoch 77/84\n",
      "391/391 [==============================] - 1s 4ms/step - loss: 0.0162 - accuracy: 0.9942 - auc: 0.9999 - val_loss: 0.0152 - val_accuracy: 0.9948 - val_auc: 0.9999\n",
      "Epoch 78/84\n",
      "391/391 [==============================] - 2s 4ms/step - loss: 0.0160 - accuracy: 0.9941 - auc: 0.9999 - val_loss: 0.0156 - val_accuracy: 0.9948 - val_auc: 0.9999\n",
      "Epoch 79/84\n",
      "391/391 [==============================] - 1s 4ms/step - loss: 0.0156 - accuracy: 0.9946 - auc: 0.9999 - val_loss: 0.0156 - val_accuracy: 0.9944 - val_auc: 0.9999\n",
      "Epoch 80/84\n",
      "391/391 [==============================] - 1s 4ms/step - loss: 0.0155 - accuracy: 0.9945 - auc: 0.9999 - val_loss: 0.0157 - val_accuracy: 0.9939 - val_auc: 0.9999\n",
      "Epoch 81/84\n",
      "391/391 [==============================] - 1s 4ms/step - loss: 0.0153 - accuracy: 0.9944 - auc: 0.9999 - val_loss: 0.0150 - val_accuracy: 0.9951 - val_auc: 0.9999\n",
      "Epoch 82/84\n",
      "391/391 [==============================] - 1s 3ms/step - loss: 0.0153 - accuracy: 0.9944 - auc: 0.9999 - val_loss: 0.0150 - val_accuracy: 0.9944 - val_auc: 0.9999\n",
      "Epoch 83/84\n",
      "391/391 [==============================] - 1s 4ms/step - loss: 0.0152 - accuracy: 0.9946 - auc: 0.9999 - val_loss: 0.0154 - val_accuracy: 0.9948 - val_auc: 0.9999\n",
      "Epoch 84/84\n",
      "391/391 [==============================] - 1s 3ms/step - loss: 0.0147 - accuracy: 0.9947 - auc: 0.9999 - val_loss: 0.0142 - val_accuracy: 0.9948 - val_auc: 0.9999\n"
     ]
    }
   ],
   "source": [
    "layers = (\n",
    "    keras.layers.Dense(30, activation=\"relu\"),\n",
    "    MCDropoutLayer(0.25),\n",
    "    keras.layers.Dense(30, activation=\"relu\"),\n",
    "    MCDropoutLayer(0.25),\n",
    "    keras.layers.Dense(30, activation=\"relu\"),\n",
    "    MCDropoutLayer(0.25),\n",
    "    keras.layers.Dense(1, activation=\"sigmoid\")\n",
    ")\n",
    "mcd_classifier = MCDropoutKerasClassification(\n",
    "    layer_tuple=layers,\n",
    "    optimizer=keras.optimizers.SGD(learning_rate=0.006),\n",
    "    loss=\"binary_crossentropy\",\n",
    "    metrics=(\"accuracy\", \"AUC\"),\n",
    "    name=\"MCDropout\"\n",
    ")\n",
    "mcd_classifier.fit(\n",
    "    x_train,\n",
    "    y_train,\n",
    "    epochs=84,\n",
    "    batch_size=256,\n",
    "    validation_data=(x_val, y_val)\n",
    ")"
   ]
  },
  {
   "cell_type": "code",
   "execution_count": 4,
   "id": "753377cd",
   "metadata": {},
   "outputs": [],
   "source": [
    "# compute, sort, and smooth all quantities to plot\n",
    "n = 1  # smoothing window for convolutions in plots\n",
    "s = 300  # number of samples to use in mean and percentile estimates\n",
    "post_lo_mean = mcd_classifier.posterior_mean_logodds(x_val[:100, :], n=s)\n",
    "\n",
    "p = 1/(1 + np.exp(-post_lo_mean[:, 0]))\n",
    "ptiles = mcd_classifier.posterior_percentile_proba(x_val[:100, :], n=s, q=(5, 95), axis=0)\n",
    "p_l = ptiles[0, :, 0]\n",
    "p_h = ptiles[1, :, 0]\n",
    "\n",
    "scores = eg.get_scores(x_val[:100,:])\n",
    "ix_srt = np.argsort(scores)\n",
    "\n",
    "probs = eg.get_probabilities(x_val[:100,:])[1]\n",
    "\n",
    "p = np.convolve(p[ix_srt[::-1]], np.ones(n)/n, mode='valid')\n",
    "p_l = np.convolve(p_l[ix_srt[::-1]], np.ones(n)/n, mode='valid')\n",
    "p_h = np.convolve(p_h[ix_srt[::-1]], np.ones(n)/n, mode='valid')\n",
    "scores = np.convolve(scores[ix_srt[::-1]], np.ones(n)/n, mode='valid')\n",
    "probs = np.convolve(probs[ix_srt[::-1]], np.ones(n)/n, mode='valid')"
   ]
  },
  {
   "cell_type": "code",
   "execution_count": 5,
   "id": "ebac2cb2",
   "metadata": {},
   "outputs": [
    {
     "data": {
      "image/png": "[encoded data removed]",
      "text/plain": [
       "<Figure size 432x288 with 1 Axes>"
      ]
     },
     "metadata": {
      "needs_background": "light"
     },
     "output_type": "display_data"
    }
   ],
   "source": [
    "plt.plot(scores, p, '--b')\n",
    "plt.fill_between(scores, p_l, p_h, \n",
    "                 alpha=0.5, edgecolor='#CC4F1B', facecolor='#FF9848')\n",
    "plt.xlabel('latent scores')\n",
    "plt.ylabel('p_hat')\n",
    "plt.show()"
   ]
  },
  {
   "cell_type": "code",
   "execution_count": 6,
   "id": "878757e6",
   "metadata": {},
   "outputs": [
    {
     "data": {
      "image/png": "[encoded data removed]",
      "text/plain": [
       "<Figure size 432x288 with 1 Axes>"
      ]
     },
     "metadata": {
      "needs_background": "light"
     },
     "output_type": "display_data"
    }
   ],
   "source": [
    "plt.plot(probs, probs, '--g')\n",
    "plt.plot(probs, p, '--b')\n",
    "plt.fill_between(probs, p_l, p_h, \n",
    "                 alpha=0.5, edgecolor='#CC4F1B', facecolor='#FF9848')\n",
    "plt.xlabel('p')\n",
    "plt.ylabel('p_hat')\n",
    "plt.show()"
   ]
  },
  {
   "cell_type": "code",
   "execution_count": 7,
   "id": "6962790d",
   "metadata": {},
   "outputs": [],
   "source": [
    "# find percentage of 95% confidence intervals containing the true probability\n",
    "s = 300  # number of posterior samples to sample for posterior for each x\n",
    "d = 10000  # number of x samples points to use\n",
    "\n",
    "post_lo_mean = mcd_classifier.posterior_mean_logodds(x_val[:d, :], n=s)\n",
    "p = 1/(1 + np.exp(-post_lo_mean[:, 0]))\n",
    "ptiles = mcd_classifier.posterior_percentile_proba(x_val[:d, :], n=s, q=(5, 95), axis=0)\n",
    "p_l = ptiles[0, :, 0]\n",
    "p_h = ptiles[1, :, 0]\n",
    "\n",
    "probs = eg.get_probabilities(x_val[:d,:])[1]\n",
    "logodds = safe_logodds(probs)"
   ]
  },
  {
   "cell_type": "code",
   "execution_count": 8,
   "id": "de472caf",
   "metadata": {},
   "outputs": [
    {
     "name": "stdout",
     "output_type": "stream",
     "text": [
      "For noise level: 0.01: 47.349999999999994% within 90% CI\n"
     ]
    },
    {
     "name": "stderr",
     "output_type": "stream",
     "text": [
      "/tmp/ipykernel_138334/1528285081.py:4: RuntimeWarning: invalid value encountered in true_divide\n",
      "  normed_p_dist = (p - probs) /(1e-16 + p_h - p_l)\n"
     ]
    },
    {
     "data": {
      "image/png": "[encoded data removed]",
      "text/plain": [
       "<Figure size 432x288 with 1 Axes>"
      ]
     },
     "metadata": {
      "needs_background": "light"
     },
     "output_type": "display_data"
    }
   ],
   "source": [
    "inside = np.logical_and(np.less_equal(p_l, probs), np.less_equal(probs, p_h))\n",
    "print (\"For noise level: 0.01: {}% within 90% CI\".format(100*np.mean(inside)))\n",
    "\n",
    "normed_p_dist = (p - probs) /(1e-16 + p_h - p_l)\n",
    "plt.hist(normed_p_dist, bins=50)\n",
    "plt.xlabel('(p_hat - p) / (p95-05)')\n",
    "plt.show()"
   ]
  },
  {
   "cell_type": "code",
   "execution_count": 9,
   "id": "26a96a66",
   "metadata": {},
   "outputs": [
    {
     "data": {
      "image/png": "[encoded data removed]",
      "text/plain": [
       "<Figure size 432x288 with 1 Axes>"
      ]
     },
     "metadata": {
      "needs_background": "light"
     },
     "output_type": "display_data"
    }
   ],
   "source": [
    "plt.hist(p_h - p_l, bins=50)\n",
    "plt.xlabel('p95-p5')\n",
    "plt.show()"
   ]
  },
  {
   "cell_type": "code",
   "execution_count": 10,
   "id": "3f99f7db",
   "metadata": {},
   "outputs": [],
   "source": [
    "#def generate_chisq_chisq_data(num_train=100000, num_val=20000, noise_level=0.):\n",
    "num_train=100096\n",
    "num_val=20000\n",
    "noise_level=0.1\n",
    "# generate some data\n",
    "s = partial(map_to_constant, c=noise_level)\n",
    "eg = AnalyticBinaryClassGenerator(seed=42, num_inputs=10, name=\"gauss\", threshold=0.5,\n",
    "                                  noise_distribution=\"gauss\", noise_scale=s)\n",
    "x, y = eg.generate_labeled(num_train + num_val)\n",
    "x = x.astype(\"float32\")\n",
    "y = y.astype(\"uint8\")\n",
    "x_train, y_train = x[:num_train, :], y[:num_train]\n",
    "x_val, y_val = x[num_train:, :], y[num_train:]\n",
    "#return x_train, y_train, x_val, y_val"
   ]
  },
  {
   "cell_type": "code",
   "execution_count": 11,
   "id": "7cadea72",
   "metadata": {},
   "outputs": [
    {
     "name": "stdout",
     "output_type": "stream",
     "text": [
      "Epoch 1/80\n",
      "391/391 [==============================] - 3s 5ms/step - loss: 0.6826 - accuracy: 0.5584 - auc: 0.5845 - val_loss: 0.6681 - val_accuracy: 0.5964 - val_auc: 0.6481\n",
      "Epoch 2/80\n",
      "391/391 [==============================] - 1s 3ms/step - loss: 0.6479 - accuracy: 0.6443 - auc: 0.7059 - val_loss: 0.6244 - val_accuracy: 0.6760 - val_auc: 0.7492\n",
      "Epoch 3/80\n",
      "391/391 [==============================] - 2s 4ms/step - loss: 0.5844 - accuracy: 0.7167 - auc: 0.7971 - val_loss: 0.5334 - val_accuracy: 0.7598 - val_auc: 0.8434\n",
      "Epoch 4/80\n",
      "391/391 [==============================] - 2s 4ms/step - loss: 0.4809 - accuracy: 0.7848 - auc: 0.8720 - val_loss: 0.4238 - val_accuracy: 0.8146 - val_auc: 0.9008\n",
      "Epoch 5/80\n",
      "391/391 [==============================] - 2s 4ms/step - loss: 0.3727 - accuracy: 0.8431 - auc: 0.9241 - val_loss: 0.3305 - val_accuracy: 0.8625 - val_auc: 0.9392\n",
      "Epoch 6/80\n",
      "391/391 [==============================] - 1s 4ms/step - loss: 0.2939 - accuracy: 0.8794 - auc: 0.9518 - val_loss: 0.2649 - val_accuracy: 0.8931 - val_auc: 0.9603\n",
      "Epoch 7/80\n",
      "391/391 [==============================] - 2s 4ms/step - loss: 0.2423 - accuracy: 0.9018 - auc: 0.9664 - val_loss: 0.2221 - val_accuracy: 0.9118 - val_auc: 0.9716\n",
      "Epoch 8/80\n",
      "391/391 [==============================] - 2s 4ms/step - loss: 0.2057 - accuracy: 0.9184 - auc: 0.9756 - val_loss: 0.1893 - val_accuracy: 0.9245 - val_auc: 0.9793\n",
      "Epoch 9/80\n",
      "391/391 [==============================] - 2s 4ms/step - loss: 0.1800 - accuracy: 0.9302 - auc: 0.9811 - val_loss: 0.1716 - val_accuracy: 0.9315 - val_auc: 0.9826\n",
      "Epoch 10/80\n",
      "391/391 [==============================] - 2s 4ms/step - loss: 0.1594 - accuracy: 0.9379 - auc: 0.9851 - val_loss: 0.1536 - val_accuracy: 0.9400 - val_auc: 0.9861\n",
      "Epoch 11/80\n",
      "391/391 [==============================] - 2s 4ms/step - loss: 0.1451 - accuracy: 0.9439 - auc: 0.9876 - val_loss: 0.1389 - val_accuracy: 0.9459 - val_auc: 0.9886\n",
      "Epoch 12/80\n",
      "391/391 [==============================] - 2s 4ms/step - loss: 0.1330 - accuracy: 0.9488 - auc: 0.9895 - val_loss: 0.1268 - val_accuracy: 0.9518 - val_auc: 0.9905\n",
      "Epoch 13/80\n",
      "391/391 [==============================] - 2s 4ms/step - loss: 0.1238 - accuracy: 0.9525 - auc: 0.9909 - val_loss: 0.1171 - val_accuracy: 0.9561 - val_auc: 0.9919\n",
      "Epoch 14/80\n",
      "391/391 [==============================] - 2s 4ms/step - loss: 0.1153 - accuracy: 0.9564 - auc: 0.9921 - val_loss: 0.1098 - val_accuracy: 0.9588 - val_auc: 0.9928\n",
      "Epoch 15/80\n",
      "391/391 [==============================] - 2s 4ms/step - loss: 0.1086 - accuracy: 0.9592 - auc: 0.9929 - val_loss: 0.1064 - val_accuracy: 0.9595 - val_auc: 0.9930\n",
      "Epoch 16/80\n",
      "391/391 [==============================] - 2s 4ms/step - loss: 0.1012 - accuracy: 0.9616 - auc: 0.9938 - val_loss: 0.1018 - val_accuracy: 0.9624 - val_auc: 0.9937\n",
      "Epoch 17/80\n",
      "391/391 [==============================] - 2s 4ms/step - loss: 0.0990 - accuracy: 0.9626 - auc: 0.9939 - val_loss: 0.0935 - val_accuracy: 0.9647 - val_auc: 0.9947\n",
      "Epoch 18/80\n",
      "391/391 [==============================] - 1s 4ms/step - loss: 0.0936 - accuracy: 0.9645 - auc: 0.9947 - val_loss: 0.0924 - val_accuracy: 0.9656 - val_auc: 0.9947\n",
      "Epoch 19/80\n",
      "391/391 [==============================] - 1s 4ms/step - loss: 0.0896 - accuracy: 0.9671 - auc: 0.9950 - val_loss: 0.0904 - val_accuracy: 0.9662 - val_auc: 0.9949\n",
      "Epoch 20/80\n",
      "391/391 [==============================] - 2s 4ms/step - loss: 0.0860 - accuracy: 0.9679 - auc: 0.9955 - val_loss: 0.0837 - val_accuracy: 0.9688 - val_auc: 0.9957\n",
      "Epoch 21/80\n",
      "391/391 [==============================] - 2s 4ms/step - loss: 0.0839 - accuracy: 0.9689 - auc: 0.9956 - val_loss: 0.0830 - val_accuracy: 0.9692 - val_auc: 0.9957\n",
      "Epoch 22/80\n",
      "391/391 [==============================] - 1s 4ms/step - loss: 0.0820 - accuracy: 0.9695 - auc: 0.9958 - val_loss: 0.0799 - val_accuracy: 0.9698 - val_auc: 0.9960\n",
      "Epoch 23/80\n",
      "391/391 [==============================] - 1s 4ms/step - loss: 0.0786 - accuracy: 0.9707 - auc: 0.9961 - val_loss: 0.0770 - val_accuracy: 0.9712 - val_auc: 0.9963\n",
      "Epoch 24/80\n",
      "391/391 [==============================] - 1s 4ms/step - loss: 0.0772 - accuracy: 0.9715 - auc: 0.9963 - val_loss: 0.0753 - val_accuracy: 0.9729 - val_auc: 0.9964\n",
      "Epoch 25/80\n",
      "391/391 [==============================] - 2s 4ms/step - loss: 0.0740 - accuracy: 0.9730 - auc: 0.9965 - val_loss: 0.0734 - val_accuracy: 0.9725 - val_auc: 0.9967\n",
      "Epoch 26/80\n",
      "391/391 [==============================] - 2s 4ms/step - loss: 0.0732 - accuracy: 0.9731 - auc: 0.9966 - val_loss: 0.0712 - val_accuracy: 0.9748 - val_auc: 0.9968\n",
      "Epoch 27/80\n",
      "391/391 [==============================] - 1s 4ms/step - loss: 0.0716 - accuracy: 0.9733 - auc: 0.9968 - val_loss: 0.0697 - val_accuracy: 0.9755 - val_auc: 0.9968\n",
      "Epoch 28/80\n",
      "391/391 [==============================] - 2s 4ms/step - loss: 0.0696 - accuracy: 0.9741 - auc: 0.9969 - val_loss: 0.0693 - val_accuracy: 0.9750 - val_auc: 0.9969\n",
      "Epoch 29/80\n",
      "391/391 [==============================] - 1s 4ms/step - loss: 0.0692 - accuracy: 0.9745 - auc: 0.9969 - val_loss: 0.0671 - val_accuracy: 0.9747 - val_auc: 0.9970\n",
      "Epoch 30/80\n",
      "391/391 [==============================] - 2s 4ms/step - loss: 0.0676 - accuracy: 0.9754 - auc: 0.9970 - val_loss: 0.0687 - val_accuracy: 0.9743 - val_auc: 0.9970\n",
      "Epoch 31/80\n",
      "391/391 [==============================] - 1s 4ms/step - loss: 0.0673 - accuracy: 0.9753 - auc: 0.9970 - val_loss: 0.0643 - val_accuracy: 0.9765 - val_auc: 0.9974\n",
      "Epoch 32/80\n",
      "391/391 [==============================] - 1s 4ms/step - loss: 0.0655 - accuracy: 0.9759 - auc: 0.9973 - val_loss: 0.0650 - val_accuracy: 0.9768 - val_auc: 0.9972\n",
      "Epoch 33/80\n",
      "391/391 [==============================] - 1s 4ms/step - loss: 0.0649 - accuracy: 0.9761 - auc: 0.9973 - val_loss: 0.0630 - val_accuracy: 0.9768 - val_auc: 0.9974\n",
      "Epoch 34/80\n",
      "391/391 [==============================] - 2s 4ms/step - loss: 0.0657 - accuracy: 0.9760 - auc: 0.9972 - val_loss: 0.0620 - val_accuracy: 0.9776 - val_auc: 0.9974\n",
      "Epoch 35/80\n",
      "391/391 [==============================] - 1s 4ms/step - loss: 0.0637 - accuracy: 0.9769 - auc: 0.9973 - val_loss: 0.0653 - val_accuracy: 0.9755 - val_auc: 0.9972\n",
      "Epoch 36/80\n",
      "391/391 [==============================] - 2s 4ms/step - loss: 0.0640 - accuracy: 0.9767 - auc: 0.9973 - val_loss: 0.0616 - val_accuracy: 0.9778 - val_auc: 0.9976\n",
      "Epoch 37/80\n",
      "391/391 [==============================] - 1s 4ms/step - loss: 0.0622 - accuracy: 0.9775 - auc: 0.9975 - val_loss: 0.0620 - val_accuracy: 0.9775 - val_auc: 0.9974\n",
      "Epoch 38/80\n",
      "391/391 [==============================] - 2s 4ms/step - loss: 0.0627 - accuracy: 0.9776 - auc: 0.9974 - val_loss: 0.0609 - val_accuracy: 0.9782 - val_auc: 0.9976\n",
      "Epoch 39/80\n",
      "391/391 [==============================] - 2s 4ms/step - loss: 0.0615 - accuracy: 0.9776 - auc: 0.9975 - val_loss: 0.0607 - val_accuracy: 0.9772 - val_auc: 0.9976\n",
      "Epoch 40/80\n",
      "391/391 [==============================] - 2s 4ms/step - loss: 0.0611 - accuracy: 0.9779 - auc: 0.9976 - val_loss: 0.0591 - val_accuracy: 0.9793 - val_auc: 0.9977\n",
      "Epoch 41/80\n",
      "391/391 [==============================] - 1s 4ms/step - loss: 0.0603 - accuracy: 0.9783 - auc: 0.9977 - val_loss: 0.0604 - val_accuracy: 0.9780 - val_auc: 0.9976\n",
      "Epoch 42/80\n",
      "391/391 [==============================] - 1s 4ms/step - loss: 0.0601 - accuracy: 0.9782 - auc: 0.9976 - val_loss: 0.0584 - val_accuracy: 0.9786 - val_auc: 0.9976\n",
      "Epoch 43/80\n",
      "391/391 [==============================] - 2s 4ms/step - loss: 0.0597 - accuracy: 0.9783 - auc: 0.9976 - val_loss: 0.0591 - val_accuracy: 0.9786 - val_auc: 0.9976\n",
      "Epoch 44/80\n",
      "391/391 [==============================] - 1s 3ms/step - loss: 0.0587 - accuracy: 0.9788 - auc: 0.9977 - val_loss: 0.0576 - val_accuracy: 0.9791 - val_auc: 0.9977\n",
      "Epoch 45/80\n",
      "391/391 [==============================] - 1s 3ms/step - loss: 0.0591 - accuracy: 0.9787 - auc: 0.9977 - val_loss: 0.0582 - val_accuracy: 0.9784 - val_auc: 0.9978\n",
      "Epoch 46/80\n",
      "391/391 [==============================] - 2s 4ms/step - loss: 0.0574 - accuracy: 0.9789 - auc: 0.9979 - val_loss: 0.0591 - val_accuracy: 0.9782 - val_auc: 0.9977\n",
      "Epoch 47/80\n",
      "391/391 [==============================] - 2s 5ms/step - loss: 0.0584 - accuracy: 0.9786 - auc: 0.9977 - val_loss: 0.0575 - val_accuracy: 0.9798 - val_auc: 0.9978\n"
     ]
    },
    {
     "name": "stdout",
     "output_type": "stream",
     "text": [
      "Epoch 48/80\n",
      "391/391 [==============================] - 2s 4ms/step - loss: 0.0591 - accuracy: 0.9788 - auc: 0.9976 - val_loss: 0.0567 - val_accuracy: 0.9776 - val_auc: 0.9979\n",
      "Epoch 49/80\n",
      "391/391 [==============================] - 2s 4ms/step - loss: 0.0569 - accuracy: 0.9796 - auc: 0.9978 - val_loss: 0.0572 - val_accuracy: 0.9788 - val_auc: 0.9979\n",
      "Epoch 50/80\n",
      "391/391 [==============================] - 1s 4ms/step - loss: 0.0571 - accuracy: 0.9790 - auc: 0.9978 - val_loss: 0.0566 - val_accuracy: 0.9793 - val_auc: 0.9978\n",
      "Epoch 51/80\n",
      "391/391 [==============================] - 1s 3ms/step - loss: 0.0567 - accuracy: 0.9795 - auc: 0.9979 - val_loss: 0.0567 - val_accuracy: 0.9791 - val_auc: 0.9980\n",
      "Epoch 52/80\n",
      "391/391 [==============================] - 1s 3ms/step - loss: 0.0566 - accuracy: 0.9793 - auc: 0.9979 - val_loss: 0.0563 - val_accuracy: 0.9796 - val_auc: 0.9980\n",
      "Epoch 53/80\n",
      "391/391 [==============================] - 1s 3ms/step - loss: 0.0557 - accuracy: 0.9801 - auc: 0.9979 - val_loss: 0.0559 - val_accuracy: 0.9791 - val_auc: 0.9979\n",
      "Epoch 54/80\n",
      "391/391 [==============================] - 1s 3ms/step - loss: 0.0567 - accuracy: 0.9795 - auc: 0.9979 - val_loss: 0.0554 - val_accuracy: 0.9802 - val_auc: 0.9980\n",
      "Epoch 55/80\n",
      "391/391 [==============================] - 1s 4ms/step - loss: 0.0556 - accuracy: 0.9797 - auc: 0.9980 - val_loss: 0.0563 - val_accuracy: 0.9800 - val_auc: 0.9977\n",
      "Epoch 56/80\n",
      "391/391 [==============================] - 1s 3ms/step - loss: 0.0552 - accuracy: 0.9801 - auc: 0.9980 - val_loss: 0.0552 - val_accuracy: 0.9800 - val_auc: 0.9980\n",
      "Epoch 57/80\n",
      "391/391 [==============================] - 1s 4ms/step - loss: 0.0552 - accuracy: 0.9800 - auc: 0.9980 - val_loss: 0.0533 - val_accuracy: 0.9811 - val_auc: 0.9981\n",
      "Epoch 58/80\n",
      "391/391 [==============================] - 1s 3ms/step - loss: 0.0552 - accuracy: 0.9801 - auc: 0.9979 - val_loss: 0.0557 - val_accuracy: 0.9791 - val_auc: 0.9979\n",
      "Epoch 59/80\n",
      "391/391 [==============================] - 1s 3ms/step - loss: 0.0547 - accuracy: 0.9804 - auc: 0.9981 - val_loss: 0.0546 - val_accuracy: 0.9801 - val_auc: 0.9981\n",
      "Epoch 60/80\n",
      "391/391 [==============================] - 1s 3ms/step - loss: 0.0550 - accuracy: 0.9802 - auc: 0.9980 - val_loss: 0.0539 - val_accuracy: 0.9811 - val_auc: 0.9980\n",
      "Epoch 61/80\n",
      "391/391 [==============================] - 1s 3ms/step - loss: 0.0532 - accuracy: 0.9802 - auc: 0.9982 - val_loss: 0.0547 - val_accuracy: 0.9801 - val_auc: 0.9980\n",
      "Epoch 62/80\n",
      "391/391 [==============================] - 1s 3ms/step - loss: 0.0538 - accuracy: 0.9803 - auc: 0.9981 - val_loss: 0.0538 - val_accuracy: 0.9793 - val_auc: 0.9981\n",
      "Epoch 63/80\n",
      "391/391 [==============================] - 1s 3ms/step - loss: 0.0539 - accuracy: 0.9803 - auc: 0.9981 - val_loss: 0.0507 - val_accuracy: 0.9797 - val_auc: 0.9984\n",
      "Epoch 64/80\n",
      "391/391 [==============================] - 1s 3ms/step - loss: 0.0530 - accuracy: 0.9802 - auc: 0.9982 - val_loss: 0.0519 - val_accuracy: 0.9809 - val_auc: 0.9982\n",
      "Epoch 65/80\n",
      "391/391 [==============================] - 1s 3ms/step - loss: 0.0530 - accuracy: 0.9804 - auc: 0.9982 - val_loss: 0.0534 - val_accuracy: 0.9804 - val_auc: 0.9982\n",
      "Epoch 66/80\n",
      "391/391 [==============================] - 1s 3ms/step - loss: 0.0532 - accuracy: 0.9808 - auc: 0.9981 - val_loss: 0.0537 - val_accuracy: 0.9804 - val_auc: 0.9981\n",
      "Epoch 67/80\n",
      "391/391 [==============================] - 1s 3ms/step - loss: 0.0528 - accuracy: 0.9808 - auc: 0.9981 - val_loss: 0.0537 - val_accuracy: 0.9798 - val_auc: 0.9980\n",
      "Epoch 68/80\n",
      "391/391 [==============================] - 1s 3ms/step - loss: 0.0521 - accuracy: 0.9806 - auc: 0.9982 - val_loss: 0.0504 - val_accuracy: 0.9815 - val_auc: 0.9984\n",
      "Epoch 69/80\n",
      "391/391 [==============================] - 1s 3ms/step - loss: 0.0516 - accuracy: 0.9810 - auc: 0.9983 - val_loss: 0.0515 - val_accuracy: 0.9810 - val_auc: 0.9984\n",
      "Epoch 70/80\n",
      "391/391 [==============================] - 1s 3ms/step - loss: 0.0516 - accuracy: 0.9809 - auc: 0.9983 - val_loss: 0.0516 - val_accuracy: 0.9811 - val_auc: 0.9983\n",
      "Epoch 71/80\n",
      "391/391 [==============================] - 1s 3ms/step - loss: 0.0526 - accuracy: 0.9805 - auc: 0.9982 - val_loss: 0.0528 - val_accuracy: 0.9803 - val_auc: 0.9981\n",
      "Epoch 72/80\n",
      "391/391 [==============================] - 1s 3ms/step - loss: 0.0520 - accuracy: 0.9810 - auc: 0.9982 - val_loss: 0.0504 - val_accuracy: 0.9805 - val_auc: 0.9984\n",
      "Epoch 73/80\n",
      "391/391 [==============================] - 1s 3ms/step - loss: 0.0513 - accuracy: 0.9809 - auc: 0.9983 - val_loss: 0.0512 - val_accuracy: 0.9804 - val_auc: 0.9984\n",
      "Epoch 74/80\n",
      "391/391 [==============================] - 1s 3ms/step - loss: 0.0523 - accuracy: 0.9803 - auc: 0.9982 - val_loss: 0.0514 - val_accuracy: 0.9801 - val_auc: 0.9984\n",
      "Epoch 75/80\n",
      "391/391 [==============================] - 1s 3ms/step - loss: 0.0520 - accuracy: 0.9806 - auc: 0.9982 - val_loss: 0.0519 - val_accuracy: 0.9815 - val_auc: 0.9982\n",
      "Epoch 76/80\n",
      "391/391 [==============================] - 1s 3ms/step - loss: 0.0509 - accuracy: 0.9812 - auc: 0.9983 - val_loss: 0.0504 - val_accuracy: 0.9811 - val_auc: 0.9984\n",
      "Epoch 77/80\n",
      "391/391 [==============================] - 1s 3ms/step - loss: 0.0509 - accuracy: 0.9813 - auc: 0.9983 - val_loss: 0.0512 - val_accuracy: 0.9809 - val_auc: 0.9983\n",
      "Epoch 78/80\n",
      "391/391 [==============================] - 1s 3ms/step - loss: 0.0508 - accuracy: 0.9810 - auc: 0.9983 - val_loss: 0.0512 - val_accuracy: 0.9807 - val_auc: 0.9983\n",
      "Epoch 79/80\n",
      "391/391 [==============================] - 1s 3ms/step - loss: 0.0503 - accuracy: 0.9807 - auc: 0.9983 - val_loss: 0.0506 - val_accuracy: 0.9801 - val_auc: 0.9984\n",
      "Epoch 80/80\n",
      "391/391 [==============================] - 1s 3ms/step - loss: 0.0507 - accuracy: 0.9811 - auc: 0.9983 - val_loss: 0.0498 - val_accuracy: 0.9812 - val_auc: 0.9984\n"
     ]
    }
   ],
   "source": [
    "layers = (\n",
    "    keras.layers.Dense(30, activation=\"relu\"),\n",
    "    MCDropoutLayer(0.25),\n",
    "    keras.layers.Dense(30, activation=\"relu\"),\n",
    "    MCDropoutLayer(0.25),\n",
    "    keras.layers.Dense(30, activation=\"relu\"),\n",
    "    MCDropoutLayer(0.25),\n",
    "    keras.layers.Dense(1, activation=\"sigmoid\")\n",
    ")\n",
    "mcd_classifier = MCDropoutKerasClassification(\n",
    "    layer_tuple=layers,\n",
    "    optimizer=keras.optimizers.SGD(learning_rate=0.006),\n",
    "    loss=\"binary_crossentropy\",\n",
    "    metrics=(\"accuracy\", \"AUC\"),\n",
    "    name=\"MCDropout\"\n",
    ")\n",
    "mcd_classifier.fit(\n",
    "    x_train,\n",
    "    y_train,\n",
    "    epochs=80,\n",
    "    batch_size=256,\n",
    "    validation_data=(x_val, y_val)\n",
    ")"
   ]
  },
  {
   "cell_type": "code",
   "execution_count": 12,
   "id": "8355730d",
   "metadata": {},
   "outputs": [],
   "source": [
    "# compute, sort, and smooth all quantities to plot\n",
    "n = 1  # smoothing window for convolutions in plots\n",
    "s = 300  # number of samples to use in mean and percentile estimates\n",
    "post_lo_mean = mcd_classifier.posterior_mean_logodds(x_val[:100, :], n=s)\n",
    "\n",
    "p = 1/(1 + np.exp(-post_lo_mean[:, 0]))\n",
    "ptiles = mcd_classifier.posterior_percentile_proba(x_val[:100, :], n=s, q=(5, 95), axis=0)\n",
    "p_l = ptiles[0, :, 0]\n",
    "p_h = ptiles[1, :, 0]\n",
    "\n",
    "scores = eg.get_scores(x_val[:100,:])\n",
    "ix_srt = np.argsort(scores)\n",
    "\n",
    "probs = eg.get_probabilities(x_val[:100,:])[1]\n",
    "\n",
    "p = np.convolve(p[ix_srt[::-1]], np.ones(n)/n, mode='valid')\n",
    "p_l = np.convolve(p_l[ix_srt[::-1]], np.ones(n)/n, mode='valid')\n",
    "p_h = np.convolve(p_h[ix_srt[::-1]], np.ones(n)/n, mode='valid')\n",
    "scores = np.convolve(scores[ix_srt[::-1]], np.ones(n)/n, mode='valid')\n",
    "probs = np.convolve(probs[ix_srt[::-1]], np.ones(n)/n, mode='valid')"
   ]
  },
  {
   "cell_type": "code",
   "execution_count": 13,
   "id": "8e894e3d",
   "metadata": {},
   "outputs": [
    {
     "data": {
      "image/png": "[encoded data removed]",
      "text/plain": [
       "<Figure size 432x288 with 1 Axes>"
      ]
     },
     "metadata": {
      "needs_background": "light"
     },
     "output_type": "display_data"
    }
   ],
   "source": [
    "plt.plot(scores, p, '--b')\n",
    "plt.fill_between(scores, p_l, p_h, \n",
    "                 alpha=0.5, edgecolor='#CC4F1B', facecolor='#FF9848')\n",
    "plt.xlabel('latent scores')\n",
    "plt.ylabel('p_hat')\n",
    "plt.show()"
   ]
  },
  {
   "cell_type": "code",
   "execution_count": 14,
   "id": "963c9055",
   "metadata": {},
   "outputs": [
    {
     "data": {
      "image/png": "[encoded data removed]",
      "text/plain": [
       "<Figure size 432x288 with 1 Axes>"
      ]
     },
     "metadata": {
      "needs_background": "light"
     },
     "output_type": "display_data"
    }
   ],
   "source": [
    "plt.plot(probs, probs, '--g')\n",
    "plt.plot(probs, p, '--b')\n",
    "plt.fill_between(probs, p_l, p_h, \n",
    "                 alpha=0.5, edgecolor='#CC4F1B', facecolor='#FF9848')\n",
    "plt.xlabel('p')\n",
    "plt.ylabel('p_hat')\n",
    "plt.show()"
   ]
  },
  {
   "cell_type": "code",
   "execution_count": 15,
   "id": "eec266d8",
   "metadata": {},
   "outputs": [],
   "source": [
    "# find percentage of 95% confidence intervals containing the true probability\n",
    "s = 300  # number of posterior samples to sample for posterior for each x\n",
    "d = 10000  # number of x samples points to use\n",
    "\n",
    "post_lo_mean = mcd_classifier.posterior_mean_logodds(x_val[:d, :], n=s)\n",
    "p = 1/(1 + np.exp(-post_lo_mean[:, 0]))\n",
    "ptiles = mcd_classifier.posterior_percentile_proba(x_val[:d, :], n=s, q=(5, 95), axis=0)\n",
    "p_l = ptiles[0, :, 0]\n",
    "p_h = ptiles[1, :, 0]\n",
    "\n",
    "probs = eg.get_probabilities(x_val[:d,:])[1]\n",
    "logodds = safe_logodds(probs)"
   ]
  },
  {
   "cell_type": "code",
   "execution_count": 16,
   "id": "b3a4dfa1",
   "metadata": {},
   "outputs": [
    {
     "name": "stdout",
     "output_type": "stream",
     "text": [
      "For noise level: 0.1: 51.09% within 90% CI\n"
     ]
    },
    {
     "name": "stderr",
     "output_type": "stream",
     "text": [
      "/tmp/ipykernel_138334/3165455278.py:4: RuntimeWarning: invalid value encountered in true_divide\n",
      "  normed_p_dist = (p - probs) /(1e-16 + p_h - p_l)\n"
     ]
    },
    {
     "data": {
      "image/png": "[encoded data removed]",
      "text/plain": [
       "<Figure size 432x288 with 1 Axes>"
      ]
     },
     "metadata": {
      "needs_background": "light"
     },
     "output_type": "display_data"
    }
   ],
   "source": [
    "inside = np.logical_and(np.less_equal(p_l, probs), np.less_equal(probs, p_h))\n",
    "print (\"For noise level: 0.1: {}% within 90% CI\".format(100*np.mean(inside)))\n",
    "\n",
    "normed_p_dist = (p - probs) /(1e-16 + p_h - p_l)\n",
    "plt.hist(normed_p_dist, bins=50)\n",
    "plt.xlabel('(p_hat - p) / (p95-05)')\n",
    "plt.show()"
   ]
  },
  {
   "cell_type": "code",
   "execution_count": 17,
   "id": "b471b276",
   "metadata": {},
   "outputs": [
    {
     "data": {
      "image/png": "[encoded data removed]",
      "text/plain": [
       "<Figure size 432x288 with 1 Axes>"
      ]
     },
     "metadata": {
      "needs_background": "light"
     },
     "output_type": "display_data"
    }
   ],
   "source": [
    "plt.hist(p_h - p_l, bins=50)\n",
    "plt.xlabel('p95-p5')\n",
    "plt.show()"
   ]
  },
  {
   "cell_type": "code",
   "execution_count": 18,
   "id": "697573d9",
   "metadata": {},
   "outputs": [],
   "source": [
    "#def generate_chisq_chisq_data(num_train=100000, num_val=20000, noise_level=0.):\n",
    "num_train=100096\n",
    "num_val=20000\n",
    "noise_level=0.3\n",
    "# generate some data\n",
    "s = partial(map_to_constant, c=noise_level)\n",
    "eg = AnalyticBinaryClassGenerator(seed=42, num_inputs=10, name=\"gauss\", threshold=0.5,\n",
    "                                  noise_distribution=\"gauss\", noise_scale=s)\n",
    "x, y = eg.generate_labeled(num_train + num_val)\n",
    "x = x.astype(\"float32\")\n",
    "y = y.astype(\"uint8\")\n",
    "x_train, y_train = x[:num_train, :], y[:num_train]\n",
    "x_val, y_val = x[num_train:, :], y[num_train:]\n",
    "#return x_train, y_train, x_val, y_val"
   ]
  },
  {
   "cell_type": "code",
   "execution_count": 19,
   "id": "2cc4817f",
   "metadata": {},
   "outputs": [
    {
     "name": "stdout",
     "output_type": "stream",
     "text": [
      "Epoch 1/82\n",
      "391/391 [==============================] - 3s 5ms/step - loss: 0.6933 - accuracy: 0.5340 - auc: 0.5506 - val_loss: 0.6726 - val_accuracy: 0.5847 - val_auc: 0.6173\n",
      "Epoch 2/82\n",
      "391/391 [==============================] - 1s 3ms/step - loss: 0.6563 - accuracy: 0.6121 - auc: 0.6589 - val_loss: 0.6322 - val_accuracy: 0.6508 - val_auc: 0.7087\n",
      "Epoch 3/82\n",
      "391/391 [==============================] - 1s 3ms/step - loss: 0.6005 - accuracy: 0.6892 - auc: 0.7576 - val_loss: 0.5610 - val_accuracy: 0.7233 - val_auc: 0.7999\n",
      "Epoch 4/82\n",
      "391/391 [==============================] - 1s 3ms/step - loss: 0.5174 - accuracy: 0.7556 - auc: 0.8365 - val_loss: 0.4680 - val_accuracy: 0.7870 - val_auc: 0.8701\n",
      "Epoch 5/82\n",
      "391/391 [==============================] - 1s 3ms/step - loss: 0.4226 - accuracy: 0.8149 - auc: 0.8960 - val_loss: 0.3766 - val_accuracy: 0.8399 - val_auc: 0.9180\n",
      "Epoch 6/82\n",
      "391/391 [==============================] - 1s 3ms/step - loss: 0.3435 - accuracy: 0.8560 - auc: 0.9316 - val_loss: 0.3145 - val_accuracy: 0.8690 - val_auc: 0.9421\n",
      "Epoch 7/82\n",
      "391/391 [==============================] - 1s 3ms/step - loss: 0.2919 - accuracy: 0.8793 - auc: 0.9500 - val_loss: 0.2662 - val_accuracy: 0.8923 - val_auc: 0.9584\n",
      "Epoch 8/82\n",
      "391/391 [==============================] - 1s 3ms/step - loss: 0.2568 - accuracy: 0.8949 - auc: 0.9607 - val_loss: 0.2389 - val_accuracy: 0.9040 - val_auc: 0.9659\n",
      "Epoch 9/82\n",
      "391/391 [==============================] - 1s 3ms/step - loss: 0.2306 - accuracy: 0.9061 - auc: 0.9681 - val_loss: 0.2183 - val_accuracy: 0.9118 - val_auc: 0.9713\n",
      "Epoch 10/82\n",
      "391/391 [==============================] - 1s 3ms/step - loss: 0.2138 - accuracy: 0.9141 - auc: 0.9724 - val_loss: 0.2035 - val_accuracy: 0.9172 - val_auc: 0.9750\n",
      "Epoch 11/82\n",
      "391/391 [==============================] - 1s 3ms/step - loss: 0.1992 - accuracy: 0.9194 - auc: 0.9760 - val_loss: 0.1989 - val_accuracy: 0.9197 - val_auc: 0.9759\n",
      "Epoch 12/82\n",
      "391/391 [==============================] - 1s 3ms/step - loss: 0.1906 - accuracy: 0.9238 - auc: 0.9778 - val_loss: 0.1860 - val_accuracy: 0.9259 - val_auc: 0.9788\n",
      "Epoch 13/82\n",
      "391/391 [==============================] - 1s 3ms/step - loss: 0.1833 - accuracy: 0.9268 - auc: 0.9795 - val_loss: 0.1797 - val_accuracy: 0.9281 - val_auc: 0.9802\n",
      "Epoch 14/82\n",
      "391/391 [==============================] - 1s 3ms/step - loss: 0.1754 - accuracy: 0.9314 - auc: 0.9811 - val_loss: 0.1747 - val_accuracy: 0.9320 - val_auc: 0.9812\n",
      "Epoch 15/82\n",
      "391/391 [==============================] - 1s 3ms/step - loss: 0.1712 - accuracy: 0.9319 - auc: 0.9819 - val_loss: 0.1713 - val_accuracy: 0.9319 - val_auc: 0.9819\n",
      "Epoch 16/82\n",
      "391/391 [==============================] - 1s 3ms/step - loss: 0.1674 - accuracy: 0.9335 - auc: 0.9827 - val_loss: 0.1655 - val_accuracy: 0.9341 - val_auc: 0.9831\n",
      "Epoch 17/82\n",
      "391/391 [==============================] - 1s 3ms/step - loss: 0.1646 - accuracy: 0.9363 - auc: 0.9832 - val_loss: 0.1636 - val_accuracy: 0.9361 - val_auc: 0.9834\n",
      "Epoch 18/82\n",
      "391/391 [==============================] - 1s 3ms/step - loss: 0.1606 - accuracy: 0.9370 - auc: 0.9841 - val_loss: 0.1588 - val_accuracy: 0.9389 - val_auc: 0.9843\n",
      "Epoch 19/82\n",
      "391/391 [==============================] - 1s 3ms/step - loss: 0.1577 - accuracy: 0.9389 - auc: 0.9846 - val_loss: 0.1569 - val_accuracy: 0.9384 - val_auc: 0.9847\n",
      "Epoch 20/82\n",
      "391/391 [==============================] - 1s 3ms/step - loss: 0.1561 - accuracy: 0.9396 - auc: 0.9849 - val_loss: 0.1534 - val_accuracy: 0.9400 - val_auc: 0.9854\n",
      "Epoch 21/82\n",
      "391/391 [==============================] - 1s 3ms/step - loss: 0.1516 - accuracy: 0.9405 - auc: 0.9858 - val_loss: 0.1528 - val_accuracy: 0.9406 - val_auc: 0.9855\n",
      "Epoch 22/82\n",
      "391/391 [==============================] - 1s 3ms/step - loss: 0.1510 - accuracy: 0.9416 - auc: 0.9858 - val_loss: 0.1516 - val_accuracy: 0.9415 - val_auc: 0.9857\n",
      "Epoch 23/82\n",
      "391/391 [==============================] - 2s 4ms/step - loss: 0.1476 - accuracy: 0.9426 - auc: 0.9865 - val_loss: 0.1492 - val_accuracy: 0.9428 - val_auc: 0.9860\n",
      "Epoch 24/82\n",
      "391/391 [==============================] - 1s 4ms/step - loss: 0.1478 - accuracy: 0.9423 - auc: 0.9864 - val_loss: 0.1469 - val_accuracy: 0.9432 - val_auc: 0.9866\n",
      "Epoch 25/82\n",
      "391/391 [==============================] - 2s 4ms/step - loss: 0.1459 - accuracy: 0.9432 - auc: 0.9868 - val_loss: 0.1492 - val_accuracy: 0.9431 - val_auc: 0.9861\n",
      "Epoch 26/82\n",
      "391/391 [==============================] - 2s 4ms/step - loss: 0.1448 - accuracy: 0.9431 - auc: 0.9870 - val_loss: 0.1426 - val_accuracy: 0.9423 - val_auc: 0.9876\n",
      "Epoch 27/82\n",
      "391/391 [==============================] - 2s 4ms/step - loss: 0.1440 - accuracy: 0.9446 - auc: 0.9871 - val_loss: 0.1426 - val_accuracy: 0.9445 - val_auc: 0.9875\n",
      "Epoch 28/82\n",
      "391/391 [==============================] - 1s 4ms/step - loss: 0.1431 - accuracy: 0.9441 - auc: 0.9873 - val_loss: 0.1439 - val_accuracy: 0.9437 - val_auc: 0.9872\n",
      "Epoch 29/82\n",
      "391/391 [==============================] - 2s 4ms/step - loss: 0.1428 - accuracy: 0.9439 - auc: 0.9873 - val_loss: 0.1399 - val_accuracy: 0.9446 - val_auc: 0.9880\n",
      "Epoch 30/82\n",
      "391/391 [==============================] - 1s 4ms/step - loss: 0.1419 - accuracy: 0.9442 - auc: 0.9875 - val_loss: 0.1416 - val_accuracy: 0.9443 - val_auc: 0.9876\n",
      "Epoch 31/82\n",
      "391/391 [==============================] - 2s 4ms/step - loss: 0.1411 - accuracy: 0.9443 - auc: 0.9877 - val_loss: 0.1407 - val_accuracy: 0.9447 - val_auc: 0.9877\n",
      "Epoch 32/82\n",
      "391/391 [==============================] - 2s 4ms/step - loss: 0.1411 - accuracy: 0.9448 - auc: 0.9876 - val_loss: 0.1400 - val_accuracy: 0.9445 - val_auc: 0.9880\n",
      "Epoch 33/82\n",
      "391/391 [==============================] - 2s 4ms/step - loss: 0.1390 - accuracy: 0.9454 - auc: 0.9880 - val_loss: 0.1407 - val_accuracy: 0.9444 - val_auc: 0.9877\n",
      "Epoch 34/82\n",
      "391/391 [==============================] - 2s 4ms/step - loss: 0.1391 - accuracy: 0.9448 - auc: 0.9880 - val_loss: 0.1368 - val_accuracy: 0.9456 - val_auc: 0.9884\n",
      "Epoch 35/82\n",
      "391/391 [==============================] - 2s 4ms/step - loss: 0.1381 - accuracy: 0.9458 - auc: 0.9882 - val_loss: 0.1391 - val_accuracy: 0.9452 - val_auc: 0.9881\n",
      "Epoch 36/82\n",
      "391/391 [==============================] - 2s 4ms/step - loss: 0.1374 - accuracy: 0.9458 - auc: 0.9883 - val_loss: 0.1380 - val_accuracy: 0.9445 - val_auc: 0.9882\n",
      "Epoch 37/82\n",
      "391/391 [==============================] - 2s 4ms/step - loss: 0.1366 - accuracy: 0.9451 - auc: 0.9885 - val_loss: 0.1367 - val_accuracy: 0.9443 - val_auc: 0.9884\n",
      "Epoch 38/82\n",
      "391/391 [==============================] - 2s 4ms/step - loss: 0.1374 - accuracy: 0.9452 - auc: 0.9883 - val_loss: 0.1363 - val_accuracy: 0.9464 - val_auc: 0.9885\n",
      "Epoch 39/82\n",
      "391/391 [==============================] - 2s 4ms/step - loss: 0.1353 - accuracy: 0.9457 - auc: 0.9887 - val_loss: 0.1371 - val_accuracy: 0.9458 - val_auc: 0.9884\n",
      "Epoch 40/82\n",
      "391/391 [==============================] - 1s 4ms/step - loss: 0.1356 - accuracy: 0.9457 - auc: 0.9886 - val_loss: 0.1342 - val_accuracy: 0.9462 - val_auc: 0.9888\n",
      "Epoch 41/82\n",
      "391/391 [==============================] - 2s 4ms/step - loss: 0.1345 - accuracy: 0.9464 - auc: 0.9888 - val_loss: 0.1350 - val_accuracy: 0.9456 - val_auc: 0.9888\n",
      "Epoch 42/82\n",
      "391/391 [==============================] - 2s 4ms/step - loss: 0.1337 - accuracy: 0.9469 - auc: 0.9889 - val_loss: 0.1348 - val_accuracy: 0.9470 - val_auc: 0.9888\n",
      "Epoch 43/82\n",
      "391/391 [==============================] - 1s 4ms/step - loss: 0.1341 - accuracy: 0.9460 - auc: 0.9889 - val_loss: 0.1354 - val_accuracy: 0.9477 - val_auc: 0.9886\n",
      "Epoch 44/82\n",
      "391/391 [==============================] - 2s 4ms/step - loss: 0.1334 - accuracy: 0.9471 - auc: 0.9890 - val_loss: 0.1322 - val_accuracy: 0.9474 - val_auc: 0.9893\n",
      "Epoch 45/82\n",
      "391/391 [==============================] - 1s 4ms/step - loss: 0.1330 - accuracy: 0.9461 - auc: 0.9891 - val_loss: 0.1353 - val_accuracy: 0.9457 - val_auc: 0.9887\n",
      "Epoch 46/82\n",
      "391/391 [==============================] - 2s 4ms/step - loss: 0.1320 - accuracy: 0.9465 - auc: 0.9892 - val_loss: 0.1332 - val_accuracy: 0.9453 - val_auc: 0.9890\n",
      "Epoch 47/82\n",
      "391/391 [==============================] - 2s 4ms/step - loss: 0.1310 - accuracy: 0.9467 - auc: 0.9894 - val_loss: 0.1335 - val_accuracy: 0.9464 - val_auc: 0.9890\n"
     ]
    },
    {
     "name": "stdout",
     "output_type": "stream",
     "text": [
      "Epoch 48/82\n",
      "391/391 [==============================] - 2s 4ms/step - loss: 0.1312 - accuracy: 0.9462 - auc: 0.9894 - val_loss: 0.1322 - val_accuracy: 0.9469 - val_auc: 0.9892\n",
      "Epoch 49/82\n",
      "391/391 [==============================] - 2s 4ms/step - loss: 0.1313 - accuracy: 0.9466 - auc: 0.9893 - val_loss: 0.1350 - val_accuracy: 0.9456 - val_auc: 0.9887\n",
      "Epoch 50/82\n",
      "391/391 [==============================] - 2s 4ms/step - loss: 0.1319 - accuracy: 0.9462 - auc: 0.9892 - val_loss: 0.1302 - val_accuracy: 0.9461 - val_auc: 0.9896\n",
      "Epoch 51/82\n",
      "391/391 [==============================] - 2s 4ms/step - loss: 0.1300 - accuracy: 0.9469 - auc: 0.9896 - val_loss: 0.1312 - val_accuracy: 0.9449 - val_auc: 0.9893\n",
      "Epoch 52/82\n",
      "391/391 [==============================] - 1s 4ms/step - loss: 0.1311 - accuracy: 0.9466 - auc: 0.9894 - val_loss: 0.1325 - val_accuracy: 0.9456 - val_auc: 0.9891\n",
      "Epoch 53/82\n",
      "391/391 [==============================] - 1s 4ms/step - loss: 0.1305 - accuracy: 0.9471 - auc: 0.9894 - val_loss: 0.1299 - val_accuracy: 0.9469 - val_auc: 0.9897\n",
      "Epoch 54/82\n",
      "391/391 [==============================] - 1s 4ms/step - loss: 0.1294 - accuracy: 0.9468 - auc: 0.9897 - val_loss: 0.1279 - val_accuracy: 0.9468 - val_auc: 0.9900\n",
      "Epoch 55/82\n",
      "391/391 [==============================] - 2s 4ms/step - loss: 0.1291 - accuracy: 0.9465 - auc: 0.9897 - val_loss: 0.1326 - val_accuracy: 0.9452 - val_auc: 0.9892\n",
      "Epoch 56/82\n",
      "391/391 [==============================] - 2s 4ms/step - loss: 0.1298 - accuracy: 0.9470 - auc: 0.9896 - val_loss: 0.1305 - val_accuracy: 0.9464 - val_auc: 0.9895\n",
      "Epoch 57/82\n",
      "391/391 [==============================] - 2s 4ms/step - loss: 0.1285 - accuracy: 0.9473 - auc: 0.9898 - val_loss: 0.1283 - val_accuracy: 0.9460 - val_auc: 0.9899\n",
      "Epoch 58/82\n",
      "391/391 [==============================] - 2s 4ms/step - loss: 0.1291 - accuracy: 0.9471 - auc: 0.9897 - val_loss: 0.1295 - val_accuracy: 0.9470 - val_auc: 0.9895\n",
      "Epoch 59/82\n",
      "391/391 [==============================] - 2s 4ms/step - loss: 0.1278 - accuracy: 0.9477 - auc: 0.9899 - val_loss: 0.1280 - val_accuracy: 0.9470 - val_auc: 0.9899\n",
      "Epoch 60/82\n",
      "391/391 [==============================] - 2s 4ms/step - loss: 0.1287 - accuracy: 0.9458 - auc: 0.9897 - val_loss: 0.1291 - val_accuracy: 0.9471 - val_auc: 0.9896\n",
      "Epoch 61/82\n",
      "391/391 [==============================] - 2s 4ms/step - loss: 0.1281 - accuracy: 0.9466 - auc: 0.9898 - val_loss: 0.1283 - val_accuracy: 0.9466 - val_auc: 0.9898\n",
      "Epoch 62/82\n",
      "391/391 [==============================] - 1s 4ms/step - loss: 0.1276 - accuracy: 0.9471 - auc: 0.9899 - val_loss: 0.1286 - val_accuracy: 0.9474 - val_auc: 0.9898\n",
      "Epoch 63/82\n",
      "391/391 [==============================] - 1s 4ms/step - loss: 0.1284 - accuracy: 0.9465 - auc: 0.9898 - val_loss: 0.1260 - val_accuracy: 0.9479 - val_auc: 0.9902\n",
      "Epoch 64/82\n",
      "391/391 [==============================] - 2s 4ms/step - loss: 0.1267 - accuracy: 0.9470 - auc: 0.9901 - val_loss: 0.1294 - val_accuracy: 0.9459 - val_auc: 0.9896\n",
      "Epoch 65/82\n",
      "391/391 [==============================] - 1s 4ms/step - loss: 0.1266 - accuracy: 0.9476 - auc: 0.9901 - val_loss: 0.1281 - val_accuracy: 0.9462 - val_auc: 0.9899\n",
      "Epoch 66/82\n",
      "391/391 [==============================] - 2s 4ms/step - loss: 0.1270 - accuracy: 0.9477 - auc: 0.9900 - val_loss: 0.1281 - val_accuracy: 0.9463 - val_auc: 0.9898\n",
      "Epoch 67/82\n",
      "391/391 [==============================] - 1s 4ms/step - loss: 0.1270 - accuracy: 0.9469 - auc: 0.9900 - val_loss: 0.1303 - val_accuracy: 0.9457 - val_auc: 0.9896\n",
      "Epoch 68/82\n",
      "391/391 [==============================] - 2s 4ms/step - loss: 0.1267 - accuracy: 0.9472 - auc: 0.9901 - val_loss: 0.1271 - val_accuracy: 0.9449 - val_auc: 0.9900\n",
      "Epoch 69/82\n",
      "391/391 [==============================] - 2s 4ms/step - loss: 0.1262 - accuracy: 0.9476 - auc: 0.9901 - val_loss: 0.1274 - val_accuracy: 0.9460 - val_auc: 0.9900\n",
      "Epoch 70/82\n",
      "391/391 [==============================] - 1s 4ms/step - loss: 0.1268 - accuracy: 0.9467 - auc: 0.9900 - val_loss: 0.1271 - val_accuracy: 0.9477 - val_auc: 0.9899\n",
      "Epoch 71/82\n",
      "391/391 [==============================] - 2s 4ms/step - loss: 0.1261 - accuracy: 0.9476 - auc: 0.9901 - val_loss: 0.1281 - val_accuracy: 0.9456 - val_auc: 0.9899\n",
      "Epoch 72/82\n",
      "391/391 [==============================] - 2s 4ms/step - loss: 0.1262 - accuracy: 0.9470 - auc: 0.9902 - val_loss: 0.1255 - val_accuracy: 0.9479 - val_auc: 0.9903\n",
      "Epoch 73/82\n",
      "391/391 [==============================] - 1s 4ms/step - loss: 0.1255 - accuracy: 0.9467 - auc: 0.9903 - val_loss: 0.1260 - val_accuracy: 0.9471 - val_auc: 0.9902\n",
      "Epoch 74/82\n",
      "391/391 [==============================] - 2s 4ms/step - loss: 0.1255 - accuracy: 0.9476 - auc: 0.9902 - val_loss: 0.1265 - val_accuracy: 0.9468 - val_auc: 0.9902\n",
      "Epoch 75/82\n",
      "391/391 [==============================] - 2s 4ms/step - loss: 0.1261 - accuracy: 0.9469 - auc: 0.9902 - val_loss: 0.1282 - val_accuracy: 0.9467 - val_auc: 0.9898\n",
      "Epoch 76/82\n",
      "391/391 [==============================] - 1s 4ms/step - loss: 0.1256 - accuracy: 0.9469 - auc: 0.9902 - val_loss: 0.1280 - val_accuracy: 0.9464 - val_auc: 0.9898\n",
      "Epoch 77/82\n",
      "391/391 [==============================] - 1s 4ms/step - loss: 0.1249 - accuracy: 0.9475 - auc: 0.9903 - val_loss: 0.1247 - val_accuracy: 0.9474 - val_auc: 0.9904\n",
      "Epoch 78/82\n",
      "391/391 [==============================] - 1s 4ms/step - loss: 0.1251 - accuracy: 0.9472 - auc: 0.9903 - val_loss: 0.1268 - val_accuracy: 0.9455 - val_auc: 0.9901\n",
      "Epoch 79/82\n",
      "391/391 [==============================] - 1s 4ms/step - loss: 0.1251 - accuracy: 0.9478 - auc: 0.9903 - val_loss: 0.1276 - val_accuracy: 0.9457 - val_auc: 0.9899\n",
      "Epoch 80/82\n",
      "391/391 [==============================] - 1s 4ms/step - loss: 0.1253 - accuracy: 0.9475 - auc: 0.9902 - val_loss: 0.1254 - val_accuracy: 0.9473 - val_auc: 0.9903\n",
      "Epoch 81/82\n",
      "391/391 [==============================] - 1s 3ms/step - loss: 0.1242 - accuracy: 0.9473 - auc: 0.9904 - val_loss: 0.1287 - val_accuracy: 0.9466 - val_auc: 0.9897\n",
      "Epoch 82/82\n",
      "391/391 [==============================] - 1s 3ms/step - loss: 0.1254 - accuracy: 0.9481 - auc: 0.9902 - val_loss: 0.1267 - val_accuracy: 0.9465 - val_auc: 0.9899\n"
     ]
    }
   ],
   "source": [
    "layers = (\n",
    "    keras.layers.Dense(30, activation=\"relu\"),\n",
    "    MCDropoutLayer(0.25),\n",
    "    keras.layers.Dense(30, activation=\"relu\"),\n",
    "    MCDropoutLayer(0.25),\n",
    "    keras.layers.Dense(30, activation=\"relu\"),\n",
    "    MCDropoutLayer(0.25),\n",
    "    keras.layers.Dense(1, activation=\"sigmoid\")\n",
    ")\n",
    "mcd_classifier = MCDropoutKerasClassification(\n",
    "    layer_tuple=layers,\n",
    "    optimizer=keras.optimizers.SGD(learning_rate=0.006),\n",
    "    loss=\"binary_crossentropy\",\n",
    "    metrics=(\"accuracy\", \"AUC\"),\n",
    "    name=\"MCDropout\"\n",
    ")\n",
    "mcd_classifier.fit(\n",
    "    x_train,\n",
    "    y_train,\n",
    "    epochs=82,\n",
    "    batch_size=256,\n",
    "    validation_data=(x_val, y_val)\n",
    ")"
   ]
  },
  {
   "cell_type": "code",
   "execution_count": 20,
   "id": "345f3951",
   "metadata": {},
   "outputs": [],
   "source": [
    "# compute, sort, and smooth all quantities to plot\n",
    "n = 1  # smoothing window for convolutions in plots\n",
    "s = 300  # number of samples to use in mean and percentile estimates\n",
    "post_lo_mean = mcd_classifier.posterior_mean_logodds(x_val[:100, :], n=s)\n",
    "\n",
    "p = 1/(1 + np.exp(-post_lo_mean[:, 0]))\n",
    "ptiles = mcd_classifier.posterior_percentile_proba(x_val[:100, :], n=s, q=(5, 95), axis=0)\n",
    "p_l = ptiles[0, :, 0]\n",
    "p_h = ptiles[1, :, 0]\n",
    "\n",
    "scores = eg.get_scores(x_val[:100,:])\n",
    "ix_srt = np.argsort(scores)\n",
    "\n",
    "probs = eg.get_probabilities(x_val[:100,:])[1]\n",
    "\n",
    "p = np.convolve(p[ix_srt[::-1]], np.ones(n)/n, mode='valid')\n",
    "p_l = np.convolve(p_l[ix_srt[::-1]], np.ones(n)/n, mode='valid')\n",
    "p_h = np.convolve(p_h[ix_srt[::-1]], np.ones(n)/n, mode='valid')\n",
    "scores = np.convolve(scores[ix_srt[::-1]], np.ones(n)/n, mode='valid')\n",
    "probs = np.convolve(probs[ix_srt[::-1]], np.ones(n)/n, mode='valid')"
   ]
  },
  {
   "cell_type": "code",
   "execution_count": 21,
   "id": "bb5e38c9",
   "metadata": {},
   "outputs": [
    {
     "data": {
      "image/png": "[encoded data removed]",
      "text/plain": [
       "<Figure size 432x288 with 1 Axes>"
      ]
     },
     "metadata": {
      "needs_background": "light"
     },
     "output_type": "display_data"
    }
   ],
   "source": [
    "plt.plot(scores, p, '--b')\n",
    "plt.fill_between(scores, p_l, p_h, \n",
    "                 alpha=0.5, edgecolor='#CC4F1B', facecolor='#FF9848')\n",
    "plt.xlabel('latent scores')\n",
    "plt.ylabel('p_hat')\n",
    "plt.show()"
   ]
  },
  {
   "cell_type": "code",
   "execution_count": 22,
   "id": "0bb1ec4f",
   "metadata": {},
   "outputs": [
    {
     "data": {
      "image/png": "[encoded data removed]",
      "text/plain": [
       "<Figure size 432x288 with 1 Axes>"
      ]
     },
     "metadata": {
      "needs_background": "light"
     },
     "output_type": "display_data"
    }
   ],
   "source": [
    "plt.plot(probs, probs, '--g')\n",
    "plt.plot(probs, p, '--b')\n",
    "plt.fill_between(probs, p_l, p_h, \n",
    "                 alpha=0.5, edgecolor='#CC4F1B', facecolor='#FF9848')\n",
    "plt.xlabel('p')\n",
    "plt.ylabel('p_hat')\n",
    "plt.show()"
   ]
  },
  {
   "cell_type": "code",
   "execution_count": 23,
   "id": "86646a0d",
   "metadata": {},
   "outputs": [],
   "source": [
    "# find percentage of 95% confidence intervals containing the true probability\n",
    "s = 300  # number of posterior samples to sample for posterior for each x\n",
    "d = 10000  # number of x samples points to use\n",
    "\n",
    "post_lo_mean = mcd_classifier.posterior_mean_logodds(x_val[:d, :], n=s)\n",
    "p = 1/(1 + np.exp(-post_lo_mean[:, 0]))\n",
    "ptiles = mcd_classifier.posterior_percentile_proba(x_val[:d, :], n=s, q=(5, 95), axis=0)\n",
    "p_l = ptiles[0, :, 0]\n",
    "p_h = ptiles[1, :, 0]\n",
    "\n",
    "probs = eg.get_probabilities(x_val[:d,:])[1]\n",
    "logodds = safe_logodds(probs)"
   ]
  },
  {
   "cell_type": "code",
   "execution_count": 24,
   "id": "36af7511",
   "metadata": {},
   "outputs": [
    {
     "name": "stdout",
     "output_type": "stream",
     "text": [
      "For noise level: 0.3: 80.83% within 90% CI\n"
     ]
    },
    {
     "name": "stderr",
     "output_type": "stream",
     "text": [
      "/tmp/ipykernel_138334/1348312816.py:4: RuntimeWarning: invalid value encountered in true_divide\n",
      "  normed_p_dist = (p - probs) /(1e-16 + p_h - p_l)\n"
     ]
    },
    {
     "data": {
      "image/png": "[encoded data removed]",
      "text/plain": [
       "<Figure size 432x288 with 1 Axes>"
      ]
     },
     "metadata": {
      "needs_background": "light"
     },
     "output_type": "display_data"
    }
   ],
   "source": [
    "inside = np.logical_and(np.less_equal(p_l, probs), np.less_equal(probs, p_h))\n",
    "print (\"For noise level: 0.3: {}% within 90% CI\".format(100*np.mean(inside)))\n",
    "\n",
    "normed_p_dist = (p - probs) /(1e-16 + p_h - p_l)\n",
    "plt.hist(normed_p_dist, bins=50)\n",
    "plt.xlabel('(p_hat - p) / (p95-05)')\n",
    "plt.show()"
   ]
  },
  {
   "cell_type": "code",
   "execution_count": 25,
   "id": "64b050ff",
   "metadata": {},
   "outputs": [
    {
     "data": {
      "image/png": "[encoded data removed]",
      "text/plain": [
       "<Figure size 432x288 with 1 Axes>"
      ]
     },
     "metadata": {
      "needs_background": "light"
     },
     "output_type": "display_data"
    }
   ],
   "source": [
    "plt.hist(p_h - p_l, bins=50)\n",
    "plt.xlabel('p95-p5')\n",
    "plt.show()"
   ]
  }
 ],
 "metadata": {
  "kernelspec": {
   "display_name": "Python 3 (ipykernel)",
   "language": "python",
   "name": "python3"
  },
  "language_info": {
   "codemirror_mode": {
    "name": "ipython",
    "version": 3
   },
   "file_extension": ".py",
   "mimetype": "text/x-python",
   "name": "python",
   "nbconvert_exporter": "python",
   "pygments_lexer": "ipython3",
   "version": "3.8.10"
  }
 },
 "nbformat": 4,
 "nbformat_minor": 5
}

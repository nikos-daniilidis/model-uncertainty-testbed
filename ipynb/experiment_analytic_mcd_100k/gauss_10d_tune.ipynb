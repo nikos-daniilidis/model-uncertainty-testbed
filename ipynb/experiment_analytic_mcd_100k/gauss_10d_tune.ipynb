{
 "cells": [
  {
   "cell_type": "code",
   "execution_count": 1,
   "id": "16176680",
   "metadata": {},
   "outputs": [
    {
     "name": "stderr",
     "output_type": "stream",
     "text": [
      "2022-04-25 14:44:28.316972: W tensorflow/stream_executor/platform/default/dso_loader.cc:64] Could not load dynamic library 'libcudart.so.11.0'; dlerror: libcudart.so.11.0: cannot open shared object file: No such file or directory\n",
      "2022-04-25 14:44:28.317003: I tensorflow/stream_executor/cuda/cudart_stub.cc:29] Ignore above cudart dlerror if you do not have a GPU set up on your machine.\n"
     ]
    }
   ],
   "source": [
    "from functools import partial\n",
    "from tensorflow import keras\n",
    "from matplotlib import pyplot as plt\n",
    "import numpy as np\n",
    "from uncertainty_testbed.generators.data_generator_explicit import AnalyticBinaryClassGenerator\n",
    "from uncertainty_testbed.utilities.functions import map_to_constant\n",
    "from uncertainty_testbed.uncertainty_models.mc_dropout import MCDropoutLayer, MCDropoutKerasClassification"
   ]
  },
  {
   "cell_type": "code",
   "execution_count": 7,
   "id": "94a450ea",
   "metadata": {},
   "outputs": [],
   "source": [
    "# generate some data\n",
    "s = partial(map_to_constant, c=0.1)\n",
    "eg = AnalyticBinaryClassGenerator(seed=42, num_inputs=10, name=\"gauss\", threshold=0.5,\n",
    "                                  noise_distribution=\"gauss\", noise_scale=s)\n",
    "x, y = eg.generate_labeled(256*1024)\n",
    "x = x.astype(\"float32\")\n",
    "y = y.astype(\"uint8\")\n",
    "x_train, y_train = x[:128*1024, :], y[:128*1024]\n",
    "x_val, y_val = x[128*1024:, :], y[128*1024:]"
   ]
  },
  {
   "cell_type": "code",
   "execution_count": 8,
   "id": "a011dc31",
   "metadata": {},
   "outputs": [
    {
     "name": "stdout",
     "output_type": "stream",
     "text": [
      "Epoch 1/60\n",
      "512/512 [==============================] - 4s 5ms/step - loss: 0.6609 - accuracy: 0.6122 - auc: 0.6697 - val_loss: 0.6115 - val_accuracy: 0.7815 - val_auc: 0.8778\n",
      "Epoch 2/60\n",
      "512/512 [==============================] - 3s 5ms/step - loss: 0.5827 - accuracy: 0.7251 - auc: 0.8060 - val_loss: 0.4738 - val_accuracy: 0.8608 - val_auc: 0.9431\n",
      "Epoch 3/60\n",
      "512/512 [==============================] - 3s 6ms/step - loss: 0.4620 - accuracy: 0.8086 - auc: 0.8890 - val_loss: 0.3142 - val_accuracy: 0.9120 - val_auc: 0.9750\n",
      "Epoch 4/60\n",
      "512/512 [==============================] - 2s 5ms/step - loss: 0.3554 - accuracy: 0.8560 - auc: 0.9312 - val_loss: 0.2073 - val_accuracy: 0.9409 - val_auc: 0.9884\n",
      "Epoch 5/60\n",
      "512/512 [==============================] - 2s 5ms/step - loss: 0.2879 - accuracy: 0.8833 - auc: 0.9520 - val_loss: 0.1519 - val_accuracy: 0.9555 - val_auc: 0.9934\n",
      "Epoch 6/60\n",
      "512/512 [==============================] - 2s 5ms/step - loss: 0.2453 - accuracy: 0.9007 - auc: 0.9642 - val_loss: 0.1208 - val_accuracy: 0.9629 - val_auc: 0.9954\n",
      "Epoch 7/60\n",
      "512/512 [==============================] - 2s 5ms/step - loss: 0.2197 - accuracy: 0.9117 - auc: 0.9708 - val_loss: 0.1037 - val_accuracy: 0.9677 - val_auc: 0.9965\n",
      "Epoch 8/60\n",
      "512/512 [==============================] - 2s 4ms/step - loss: 0.2039 - accuracy: 0.9178 - auc: 0.9747 - val_loss: 0.0929 - val_accuracy: 0.9703 - val_auc: 0.9971\n",
      "Epoch 9/60\n",
      "512/512 [==============================] - 2s 4ms/step - loss: 0.1873 - accuracy: 0.9251 - auc: 0.9785 - val_loss: 0.0844 - val_accuracy: 0.9727 - val_auc: 0.9975\n",
      "Epoch 10/60\n",
      "512/512 [==============================] - 2s 5ms/step - loss: 0.1752 - accuracy: 0.9290 - auc: 0.9812 - val_loss: 0.0785 - val_accuracy: 0.9744 - val_auc: 0.9978\n",
      "Epoch 11/60\n",
      "512/512 [==============================] - 2s 5ms/step - loss: 0.1665 - accuracy: 0.9334 - auc: 0.9829 - val_loss: 0.0742 - val_accuracy: 0.9757 - val_auc: 0.9981\n",
      "Epoch 12/60\n",
      "512/512 [==============================] - 2s 5ms/step - loss: 0.1594 - accuracy: 0.9364 - auc: 0.9843 - val_loss: 0.0705 - val_accuracy: 0.9767 - val_auc: 0.9982\n",
      "Epoch 13/60\n",
      "512/512 [==============================] - 3s 5ms/step - loss: 0.1493 - accuracy: 0.9400 - auc: 0.9863 - val_loss: 0.0670 - val_accuracy: 0.9776 - val_auc: 0.9984\n",
      "Epoch 14/60\n",
      "512/512 [==============================] - 3s 5ms/step - loss: 0.1431 - accuracy: 0.9425 - auc: 0.9874 - val_loss: 0.0641 - val_accuracy: 0.9784 - val_auc: 0.9985\n",
      "Epoch 15/60\n",
      "512/512 [==============================] - 3s 6ms/step - loss: 0.1366 - accuracy: 0.9455 - auc: 0.9885 - val_loss: 0.0616 - val_accuracy: 0.9789 - val_auc: 0.9986\n",
      "Epoch 16/60\n",
      "512/512 [==============================] - 3s 5ms/step - loss: 0.1294 - accuracy: 0.9477 - auc: 0.9896 - val_loss: 0.0592 - val_accuracy: 0.9794 - val_auc: 0.9987\n",
      "Epoch 17/60\n",
      "512/512 [==============================] - 2s 5ms/step - loss: 0.1257 - accuracy: 0.9495 - auc: 0.9902 - val_loss: 0.0572 - val_accuracy: 0.9801 - val_auc: 0.9987\n",
      "Epoch 18/60\n",
      "512/512 [==============================] - 2s 5ms/step - loss: 0.1209 - accuracy: 0.9520 - auc: 0.9909 - val_loss: 0.0555 - val_accuracy: 0.9805 - val_auc: 0.9988\n",
      "Epoch 19/60\n",
      "512/512 [==============================] - 2s 5ms/step - loss: 0.1164 - accuracy: 0.9535 - auc: 0.9916 - val_loss: 0.0541 - val_accuracy: 0.9809 - val_auc: 0.9988\n",
      "Epoch 20/60\n",
      "512/512 [==============================] - 3s 6ms/step - loss: 0.1123 - accuracy: 0.9556 - auc: 0.9922 - val_loss: 0.0530 - val_accuracy: 0.9811 - val_auc: 0.9988\n",
      "Epoch 21/60\n",
      "512/512 [==============================] - 3s 5ms/step - loss: 0.1091 - accuracy: 0.9567 - auc: 0.9926 - val_loss: 0.0517 - val_accuracy: 0.9814 - val_auc: 0.9989\n",
      "Epoch 22/60\n",
      "512/512 [==============================] - 3s 5ms/step - loss: 0.1044 - accuracy: 0.9582 - auc: 0.9932 - val_loss: 0.0505 - val_accuracy: 0.9815 - val_auc: 0.9989\n",
      "Epoch 23/60\n",
      "512/512 [==============================] - 3s 5ms/step - loss: 0.1008 - accuracy: 0.9596 - auc: 0.9937 - val_loss: 0.0493 - val_accuracy: 0.9817 - val_auc: 0.9989\n",
      "Epoch 24/60\n",
      "512/512 [==============================] - 2s 4ms/step - loss: 0.1007 - accuracy: 0.9591 - auc: 0.9937 - val_loss: 0.0489 - val_accuracy: 0.9819 - val_auc: 0.9989\n",
      "Epoch 25/60\n",
      "512/512 [==============================] - 2s 5ms/step - loss: 0.0964 - accuracy: 0.9612 - auc: 0.9942 - val_loss: 0.0480 - val_accuracy: 0.9821 - val_auc: 0.9990\n",
      "Epoch 26/60\n",
      "512/512 [==============================] - 3s 7ms/step - loss: 0.0930 - accuracy: 0.9625 - auc: 0.9947 - val_loss: 0.0470 - val_accuracy: 0.9822 - val_auc: 0.9990\n",
      "Epoch 27/60\n",
      "512/512 [==============================] - 3s 6ms/step - loss: 0.0917 - accuracy: 0.9635 - auc: 0.9948 - val_loss: 0.0465 - val_accuracy: 0.9823 - val_auc: 0.9990\n",
      "Epoch 28/60\n",
      "512/512 [==============================] - 2s 5ms/step - loss: 0.0902 - accuracy: 0.9632 - auc: 0.9949 - val_loss: 0.0462 - val_accuracy: 0.9822 - val_auc: 0.9990\n",
      "Epoch 29/60\n",
      "512/512 [==============================] - 2s 5ms/step - loss: 0.0877 - accuracy: 0.9645 - auc: 0.9952 - val_loss: 0.0456 - val_accuracy: 0.9825 - val_auc: 0.9990\n",
      "Epoch 30/60\n",
      "512/512 [==============================] - 2s 5ms/step - loss: 0.0841 - accuracy: 0.9661 - auc: 0.9956 - val_loss: 0.0450 - val_accuracy: 0.9824 - val_auc: 0.9990\n",
      "Epoch 31/60\n",
      "512/512 [==============================] - 2s 5ms/step - loss: 0.0830 - accuracy: 0.9663 - auc: 0.9957 - val_loss: 0.0445 - val_accuracy: 0.9824 - val_auc: 0.9990\n",
      "Epoch 32/60\n",
      "512/512 [==============================] - 3s 5ms/step - loss: 0.0819 - accuracy: 0.9669 - auc: 0.9958 - val_loss: 0.0441 - val_accuracy: 0.9825 - val_auc: 0.9990\n",
      "Epoch 33/60\n",
      "512/512 [==============================] - 2s 5ms/step - loss: 0.0789 - accuracy: 0.9685 - auc: 0.9961 - val_loss: 0.0437 - val_accuracy: 0.9826 - val_auc: 0.9990\n",
      "Epoch 34/60\n",
      "512/512 [==============================] - 2s 5ms/step - loss: 0.0784 - accuracy: 0.9683 - auc: 0.9962 - val_loss: 0.0432 - val_accuracy: 0.9826 - val_auc: 0.9991\n",
      "Epoch 35/60\n",
      "512/512 [==============================] - 2s 4ms/step - loss: 0.0771 - accuracy: 0.9688 - auc: 0.9963 - val_loss: 0.0431 - val_accuracy: 0.9826 - val_auc: 0.9991\n",
      "Epoch 36/60\n",
      "512/512 [==============================] - 2s 4ms/step - loss: 0.0761 - accuracy: 0.9692 - auc: 0.9964 - val_loss: 0.0429 - val_accuracy: 0.9827 - val_auc: 0.9991\n",
      "Epoch 37/60\n",
      "512/512 [==============================] - 2s 4ms/step - loss: 0.0740 - accuracy: 0.9703 - auc: 0.9966 - val_loss: 0.0426 - val_accuracy: 0.9827 - val_auc: 0.9991\n",
      "Epoch 38/60\n",
      "512/512 [==============================] - 2s 3ms/step - loss: 0.0736 - accuracy: 0.9698 - auc: 0.9966 - val_loss: 0.0424 - val_accuracy: 0.9828 - val_auc: 0.9991\n",
      "Epoch 39/60\n",
      "512/512 [==============================] - 2s 3ms/step - loss: 0.0717 - accuracy: 0.9713 - auc: 0.9967 - val_loss: 0.0419 - val_accuracy: 0.9829 - val_auc: 0.9991\n",
      "Epoch 40/60\n",
      "512/512 [==============================] - 2s 3ms/step - loss: 0.0689 - accuracy: 0.9719 - auc: 0.9970 - val_loss: 0.0415 - val_accuracy: 0.9829 - val_auc: 0.9991\n",
      "Epoch 41/60\n",
      "512/512 [==============================] - 2s 3ms/step - loss: 0.0701 - accuracy: 0.9714 - auc: 0.9969 - val_loss: 0.0413 - val_accuracy: 0.9831 - val_auc: 0.9991\n",
      "Epoch 42/60\n",
      "512/512 [==============================] - 2s 3ms/step - loss: 0.0679 - accuracy: 0.9729 - auc: 0.9971 - val_loss: 0.0411 - val_accuracy: 0.9830 - val_auc: 0.9991\n",
      "Epoch 43/60\n",
      "512/512 [==============================] - 2s 3ms/step - loss: 0.0655 - accuracy: 0.9734 - auc: 0.9973 - val_loss: 0.0407 - val_accuracy: 0.9830 - val_auc: 0.9991\n",
      "Epoch 44/60\n",
      "512/512 [==============================] - 2s 3ms/step - loss: 0.0660 - accuracy: 0.9732 - auc: 0.9972 - val_loss: 0.0407 - val_accuracy: 0.9831 - val_auc: 0.9991\n",
      "Epoch 45/60\n",
      "512/512 [==============================] - 2s 4ms/step - loss: 0.0649 - accuracy: 0.9738 - auc: 0.9973 - val_loss: 0.0405 - val_accuracy: 0.9830 - val_auc: 0.9991\n",
      "Epoch 46/60\n",
      "512/512 [==============================] - 2s 3ms/step - loss: 0.0638 - accuracy: 0.9743 - auc: 0.9974 - val_loss: 0.0404 - val_accuracy: 0.9831 - val_auc: 0.9991\n",
      "Epoch 47/60\n",
      "512/512 [==============================] - 2s 4ms/step - loss: 0.0632 - accuracy: 0.9744 - auc: 0.9974 - val_loss: 0.0402 - val_accuracy: 0.9831 - val_auc: 0.9991\n"
     ]
    },
    {
     "name": "stdout",
     "output_type": "stream",
     "text": [
      "Epoch 48/60\n",
      "512/512 [==============================] - 2s 4ms/step - loss: 0.0626 - accuracy: 0.9748 - auc: 0.9975 - val_loss: 0.0400 - val_accuracy: 0.9831 - val_auc: 0.9991\n",
      "Epoch 49/60\n",
      "512/512 [==============================] - 2s 4ms/step - loss: 0.0635 - accuracy: 0.9744 - auc: 0.9974 - val_loss: 0.0400 - val_accuracy: 0.9832 - val_auc: 0.9991\n",
      "Epoch 50/60\n",
      "512/512 [==============================] - 2s 4ms/step - loss: 0.0609 - accuracy: 0.9751 - auc: 0.9976 - val_loss: 0.0399 - val_accuracy: 0.9832 - val_auc: 0.9991\n",
      "Epoch 51/60\n",
      "512/512 [==============================] - 2s 4ms/step - loss: 0.0598 - accuracy: 0.9762 - auc: 0.9977 - val_loss: 0.0397 - val_accuracy: 0.9832 - val_auc: 0.9991\n",
      "Epoch 52/60\n",
      "512/512 [==============================] - 2s 4ms/step - loss: 0.0590 - accuracy: 0.9763 - auc: 0.9978 - val_loss: 0.0395 - val_accuracy: 0.9833 - val_auc: 0.9991\n",
      "Epoch 53/60\n",
      "512/512 [==============================] - 2s 4ms/step - loss: 0.0577 - accuracy: 0.9766 - auc: 0.9979 - val_loss: 0.0394 - val_accuracy: 0.9833 - val_auc: 0.9991\n",
      "Epoch 54/60\n",
      "512/512 [==============================] - 2s 4ms/step - loss: 0.0573 - accuracy: 0.9769 - auc: 0.9979 - val_loss: 0.0393 - val_accuracy: 0.9833 - val_auc: 0.9991\n",
      "Epoch 55/60\n",
      "512/512 [==============================] - 2s 4ms/step - loss: 0.0573 - accuracy: 0.9765 - auc: 0.9979 - val_loss: 0.0392 - val_accuracy: 0.9832 - val_auc: 0.9991\n",
      "Epoch 56/60\n",
      "512/512 [==============================] - 2s 4ms/step - loss: 0.0573 - accuracy: 0.9770 - auc: 0.9978 - val_loss: 0.0392 - val_accuracy: 0.9833 - val_auc: 0.9991\n",
      "Epoch 57/60\n",
      "512/512 [==============================] - 2s 4ms/step - loss: 0.0565 - accuracy: 0.9770 - auc: 0.9979 - val_loss: 0.0391 - val_accuracy: 0.9833 - val_auc: 0.9991\n",
      "Epoch 58/60\n",
      "512/512 [==============================] - 2s 4ms/step - loss: 0.0560 - accuracy: 0.9771 - auc: 0.9980 - val_loss: 0.0390 - val_accuracy: 0.9833 - val_auc: 0.9991\n",
      "Epoch 59/60\n",
      "512/512 [==============================] - 2s 4ms/step - loss: 0.0556 - accuracy: 0.9777 - auc: 0.9980 - val_loss: 0.0389 - val_accuracy: 0.9833 - val_auc: 0.9991\n",
      "Epoch 60/60\n",
      "512/512 [==============================] - 2s 3ms/step - loss: 0.0544 - accuracy: 0.9779 - auc: 0.9981 - val_loss: 0.0388 - val_accuracy: 0.9833 - val_auc: 0.9991\n"
     ]
    }
   ],
   "source": [
    "# train a Keras MLP\n",
    "model = keras.Sequential()\n",
    "#model.add(keras.layers.Dropout(0.25))\n",
    "#model.add(keras.layers.Dense(40, activation=\"relu\"))\n",
    "#model.add(keras.layers.Dropout(0.25))\n",
    "model.add(keras.layers.Dense(40, activation=\"relu\"))\n",
    "model.add(keras.layers.Dropout(0.25))\n",
    "model.add(keras.layers.Dense(30, activation=\"relu\"))\n",
    "model.add(keras.layers.Dropout(0.25))\n",
    "model.add(keras.layers.Dense(30, activation=\"relu\"))\n",
    "model.add(keras.layers.Dropout(0.25))\n",
    "model.add(keras.layers.Dense(30, activation=\"relu\"))\n",
    "model.add(keras.layers.Dropout(0.25))\n",
    "model.add(keras.layers.Dense(1, activation=\"sigmoid\"))\n",
    "model.compile(\n",
    "    optimizer=keras.optimizers.Nadam(learning_rate=3e-5),\n",
    "    loss=\"binary_crossentropy\",\n",
    "    metrics=[\"accuracy\", \"AUC\"]\n",
    ")\n",
    "history = model.fit(\n",
    "    x_train,\n",
    "    y_train,\n",
    "    epochs=60,\n",
    "    batch_size=256,\n",
    "    validation_data=(x_val, y_val)\n",
    ")"
   ]
  },
  {
   "cell_type": "code",
   "execution_count": 9,
   "id": "e8a1428b",
   "metadata": {},
   "outputs": [
    {
     "data": {
      "image/png": "[encoded data removed]",
      "text/plain": [
       "<Figure size 432x288 with 1 Axes>"
      ]
     },
     "metadata": {
      "needs_background": "light"
     },
     "output_type": "display_data"
    },
    {
     "data": {
      "image/png": "[encoded data removed]",
      "text/plain": [
       "<Figure size 432x288 with 1 Axes>"
      ]
     },
     "metadata": {
      "needs_background": "light"
     },
     "output_type": "display_data"
    }
   ],
   "source": [
    "# inspect metrics\n",
    "history_dict = history.history\n",
    "loss = history_dict[\"loss\"]\n",
    "val_loss = history_dict[\"val_loss\"]\n",
    "auc = history_dict[\"auc\"]\n",
    "val_auc = history_dict[\"val_auc\"]\n",
    "epochs = range(1, len(loss)+1)\n",
    "\n",
    "plt.plot(epochs, loss, \"bo\", label=\"Training loss\")\n",
    "plt.plot(epochs, val_loss, \"r--\", label=\"Validation loss\")\n",
    "plt.xlabel(\"Train Epochs\")\n",
    "plt.ylabel(\"Loss\")\n",
    "plt.legend()\n",
    "plt.show()\n",
    "\n",
    "plt.plot(epochs, auc, \"bo\", label=\"Training auc\")\n",
    "plt.plot(epochs, val_auc, \"r--\", label=\"Validation auc\")\n",
    "plt.xlabel(\"Train Epochs\")\n",
    "plt.ylabel(\"AUC\")\n",
    "plt.legend()\n",
    "plt.show()"
   ]
  },
  {
   "cell_type": "code",
   "execution_count": null,
   "id": "70136477",
   "metadata": {},
   "outputs": [],
   "source": []
  },
  {
   "cell_type": "markdown",
   "id": "a9a0618a",
   "metadata": {},
   "source": [
    "### Tuning notes: \n",
    "\n",
    "`100000 train/ 20000 validation`\n",
    "\n",
    "Best values\n",
    "\n",
    "* model: 0.25, 20, 0.25, 20, 0.25, 20, 0.25, 1 / batch: 512 / lr: 5e-5\n",
    "* Epoch 9/17 val_loss: 0.4959 - val_accuracy: 0.9551 - val_auc: 0.9926\n",
    "\n",
    "* model: 0.25, 30, 0.25, 30, 0.25, 30, 0.25, 1 / batch: 512 / lr: 5e-5\n",
    "* Epoch 11/17 val_loss: 0.4413 - val_accuracy: 0.9657 - val_auc: 0.9978\n",
    "\n",
    "`128*1024 train / 128*1024 test`\n",
    "\n",
    "Best values\n",
    "\n",
    "* model: 0.25, 40, 0.25, 40, 0.25, 30, 0.25, 30, 0.25, 1 / batch: 256 / lr: 1e-4\n",
    "* Epoch 8/40 **val_loss: 0.2270**  - val_accuracy: 0.9789 - val_auc: 0.9984\n",
    "\n",
    "* model: 0.25, 40, 0.25, 40, 0.25, 40, 0.25, 30, 0.25, 30, 0.25, 1 / batch: 256 / lr: 5e-5\n",
    "* Epoch 7/40 **val_loss: 0.2332** - val_accuracy: 0.9747 - val_auc: 0.9979\n",
    "\n",
    "* model: 0.25, 40, 0.25, 40, 0.25, 40, 0.25, 30, 0.25, 30, 0.25, 1 / batch: 256 / lr: 3e-5\n",
    "* Epoch 23/40 **val_loss: 0.2441** - val_accuracy: 0.9793 - val_auc: 0.9985\n",
    "\n",
    "* model: 30, 0.25, 30, 0.25, 30, 0.25, 1 / batch: 256 / lr: 3e-5\n",
    "* Epoch 60/60 **val_loss: 0.0122** - val_accuracy: 0.9972 - val_auc: 1.0000\n",
    "\n",
    "* model: 40, 0.25, 30, 0.25, 30, 0.25, 30, 0.25, 1 / batch: 256 / lr: 3e-5\n",
    "* Epoch 60/60 **val_loss: 0.0132** - val_accuracy: 0.9966 - val_auc: 1.0000\n"
   ]
  },
  {
   "cell_type": "code",
   "execution_count": 14,
   "id": "91c07510",
   "metadata": {},
   "outputs": [],
   "source": [
    "scores = eg.get_scores(x_val[:1000,:])\n",
    "ix_srt = np.argsort(scores)\n",
    "probs = eg.get_probabilities(x_val[:1000,:])[1]"
   ]
  },
  {
   "cell_type": "code",
   "execution_count": 15,
   "id": "7f5354d9",
   "metadata": {},
   "outputs": [
    {
     "data": {
      "image/png": "[encoded data removed]",
      "text/plain": [
       "<Figure size 432x288 with 1 Axes>"
      ]
     },
     "metadata": {
      "needs_background": "light"
     },
     "output_type": "display_data"
    }
   ],
   "source": [
    "plt.plot(scores[ix_srt[::-1]], probs[ix_srt[::-1]], '--g')\n",
    "plt.show()"
   ]
  },
  {
   "cell_type": "code",
   "execution_count": 16,
   "id": "6dc1008e",
   "metadata": {},
   "outputs": [
    {
     "data": {
      "text/plain": [
       "(array([ 10.,  21.,  62., 156., 207., 227., 163.,  90.,  50.,  14.]),\n",
       " array([-5.66738654, -4.58481758, -3.50224861, -2.41967965, -1.33711068,\n",
       "        -0.25454172,  0.82802725,  1.91059621,  2.99316518,  4.07573415,\n",
       "         5.15830311]),\n",
       " <BarContainer object of 10 artists>)"
      ]
     },
     "execution_count": 16,
     "metadata": {},
     "output_type": "execute_result"
    },
    {
     "data": {
      "image/png": "[encoded data removed]",
      "text/plain": [
       "<Figure size 432x288 with 1 Axes>"
      ]
     },
     "metadata": {
      "needs_background": "light"
     },
     "output_type": "display_data"
    }
   ],
   "source": [
    "plt.hist(scores)"
   ]
  },
  {
   "cell_type": "code",
   "execution_count": 17,
   "id": "0f1d5499",
   "metadata": {},
   "outputs": [
    {
     "data": {
      "text/plain": [
       "(array([511.,   2.,   0.,   1.,   0.,   0.,   0.,   0.,   1., 485.]),\n",
       " array([0. , 0.1, 0.2, 0.3, 0.4, 0.5, 0.6, 0.7, 0.8, 0.9, 1. ]),\n",
       " <BarContainer object of 10 artists>)"
      ]
     },
     "execution_count": 17,
     "metadata": {},
     "output_type": "execute_result"
    },
    {
     "data": {
      "image/png": "[encoded data removed]",
      "text/plain": [
       "<Figure size 432x288 with 1 Axes>"
      ]
     },
     "metadata": {
      "needs_background": "light"
     },
     "output_type": "display_data"
    }
   ],
   "source": [
    "plt.hist(probs)"
   ]
  },
  {
   "cell_type": "code",
   "execution_count": null,
   "id": "211cdb54",
   "metadata": {},
   "outputs": [],
   "source": []
  }
 ],
 "metadata": {
  "kernelspec": {
   "display_name": "Python 3 (ipykernel)",
   "language": "python",
   "name": "python3"
  },
  "language_info": {
   "codemirror_mode": {
    "name": "ipython",
    "version": 3
   },
   "file_extension": ".py",
   "mimetype": "text/x-python",
   "name": "python",
   "nbconvert_exporter": "python",
   "pygments_lexer": "ipython3",
   "version": "3.8.10"
  }
 },
 "nbformat": 4,
 "nbformat_minor": 5
}
